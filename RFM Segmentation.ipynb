{
  "nbformat": 4,
  "nbformat_minor": 0,
  "metadata": {
    "colab": {
      "name": "Marketing Project.ipynb",
      "provenance": [],
      "collapsed_sections": []
    },
    "kernelspec": {
      "name": "python3",
      "display_name": "Python 3"
    }
  },
  "cells": [
    {
      "cell_type": "code",
      "metadata": {
        "id": "O0k__5z1gPyf",
        "colab_type": "code",
        "colab": {}
      },
      "source": [
        "# Code to read csv file into Colaboratory:\n",
        "!pip install -U -q PyDrive\n",
        "from pydrive.auth import GoogleAuth\n",
        "from pydrive.drive import GoogleDrive\n",
        "from google.colab import auth\n",
        "from oauth2client.client import GoogleCredentials\n",
        "# Authenticate and create the PyDrive client.\n",
        "auth.authenticate_user()\n",
        "gauth = GoogleAuth()\n",
        "gauth.credentials = GoogleCredentials.get_application_default()\n",
        "drive = GoogleDrive(gauth)"
      ],
      "execution_count": 0,
      "outputs": []
    },
    {
      "cell_type": "code",
      "metadata": {
        "id": "oIyy2tQggc46",
        "colab_type": "code",
        "outputId": "c40acd9b-ccd7-4d66-8352-0940fe406271",
        "colab": {
          "base_uri": "https://localhost:8080/",
          "height": 35
        }
      },
      "source": [
        "# importing file from gdrive\n",
        "link = 'https://drive.google.com/open?id=1N-NiW842fQtA7-aSWOaVOufxTRAbBgTZ' # Paste the shareable link here\n",
        "\n",
        "fluff, id = link.split('=')\n",
        "print (id) # Verify that you have everything after '='\n",
        "\n",
        "downloaded = drive.CreateFile({'id':id}) \n",
        "downloaded.GetContentFile('train.csv') # file will be stored as train.csv in the colab directory"
      ],
      "execution_count": 0,
      "outputs": [
        {
          "output_type": "stream",
          "text": [
            "1N-NiW842fQtA7-aSWOaVOufxTRAbBgTZ\n"
          ],
          "name": "stdout"
        }
      ]
    },
    {
      "cell_type": "code",
      "metadata": {
        "id": "5sNuSvewhQeP",
        "colab_type": "code",
        "outputId": "678c6128-40bc-4566-a069-e45132bec591",
        "colab": {
          "base_uri": "https://localhost:8080/",
          "height": 35
        }
      },
      "source": [
        "# importing libraries\n",
        "import pandas as pd\n",
        "import numpy as np\n",
        "import matplotlib.pyplot as plt\n",
        "%pylab inline"
      ],
      "execution_count": 0,
      "outputs": [
        {
          "output_type": "stream",
          "text": [
            "Populating the interactive namespace from numpy and matplotlib\n"
          ],
          "name": "stdout"
        }
      ]
    },
    {
      "cell_type": "code",
      "metadata": {
        "id": "4l_BcJdoh9T_",
        "colab_type": "code",
        "outputId": "52bc1f28-d2b6-4cf1-e15c-ce4d8d65cf36",
        "colab": {
          "base_uri": "https://localhost:8080/",
          "height": 35
        }
      },
      "source": [
        "import os\n",
        "os.listdir('/content/')"
      ],
      "execution_count": 0,
      "outputs": [
        {
          "output_type": "execute_result",
          "data": {
            "text/plain": [
              "['.config', 'adc.json', 'train.csv', 'sample_data']"
            ]
          },
          "metadata": {
            "tags": []
          },
          "execution_count": 87
        }
      ]
    },
    {
      "cell_type": "code",
      "metadata": {
        "id": "UCDe91DOhmYt",
        "colab_type": "code",
        "colab": {}
      },
      "source": [
        "# reading data\n",
        "raw_data = pd.read_csv('train.csv', encoding = 'unicode_escape', parse_dates=['InvoiceDate'])"
      ],
      "execution_count": 0,
      "outputs": []
    },
    {
      "cell_type": "code",
      "metadata": {
        "id": "JoO8Y68PhvUS",
        "colab_type": "code",
        "outputId": "4de9d436-b7b7-4f4c-cc4c-71ea0a869e74",
        "colab": {
          "base_uri": "https://localhost:8080/",
          "height": 203
        }
      },
      "source": [
        "raw_data.head()"
      ],
      "execution_count": 0,
      "outputs": [
        {
          "output_type": "execute_result",
          "data": {
            "text/html": [
              "<div>\n",
              "<style scoped>\n",
              "    .dataframe tbody tr th:only-of-type {\n",
              "        vertical-align: middle;\n",
              "    }\n",
              "\n",
              "    .dataframe tbody tr th {\n",
              "        vertical-align: top;\n",
              "    }\n",
              "\n",
              "    .dataframe thead th {\n",
              "        text-align: right;\n",
              "    }\n",
              "</style>\n",
              "<table border=\"1\" class=\"dataframe\">\n",
              "  <thead>\n",
              "    <tr style=\"text-align: right;\">\n",
              "      <th></th>\n",
              "      <th>InvoiceNo</th>\n",
              "      <th>StockCode</th>\n",
              "      <th>Description</th>\n",
              "      <th>Quantity</th>\n",
              "      <th>InvoiceDate</th>\n",
              "      <th>UnitPrice</th>\n",
              "      <th>CustomerID</th>\n",
              "      <th>Country</th>\n",
              "    </tr>\n",
              "  </thead>\n",
              "  <tbody>\n",
              "    <tr>\n",
              "      <th>0</th>\n",
              "      <td>536365</td>\n",
              "      <td>85123A</td>\n",
              "      <td>WHITE HANGING HEART T-LIGHT HOLDER</td>\n",
              "      <td>6</td>\n",
              "      <td>2010-12-01 08:26:00</td>\n",
              "      <td>2.55</td>\n",
              "      <td>17850.0</td>\n",
              "      <td>United Kingdom</td>\n",
              "    </tr>\n",
              "    <tr>\n",
              "      <th>1</th>\n",
              "      <td>536365</td>\n",
              "      <td>71053</td>\n",
              "      <td>WHITE METAL LANTERN</td>\n",
              "      <td>6</td>\n",
              "      <td>2010-12-01 08:26:00</td>\n",
              "      <td>3.39</td>\n",
              "      <td>17850.0</td>\n",
              "      <td>United Kingdom</td>\n",
              "    </tr>\n",
              "    <tr>\n",
              "      <th>2</th>\n",
              "      <td>536365</td>\n",
              "      <td>84406B</td>\n",
              "      <td>CREAM CUPID HEARTS COAT HANGER</td>\n",
              "      <td>8</td>\n",
              "      <td>2010-12-01 08:26:00</td>\n",
              "      <td>2.75</td>\n",
              "      <td>17850.0</td>\n",
              "      <td>United Kingdom</td>\n",
              "    </tr>\n",
              "    <tr>\n",
              "      <th>3</th>\n",
              "      <td>536365</td>\n",
              "      <td>84029G</td>\n",
              "      <td>KNITTED UNION FLAG HOT WATER BOTTLE</td>\n",
              "      <td>6</td>\n",
              "      <td>2010-12-01 08:26:00</td>\n",
              "      <td>3.39</td>\n",
              "      <td>17850.0</td>\n",
              "      <td>United Kingdom</td>\n",
              "    </tr>\n",
              "    <tr>\n",
              "      <th>4</th>\n",
              "      <td>536365</td>\n",
              "      <td>84029E</td>\n",
              "      <td>RED WOOLLY HOTTIE WHITE HEART.</td>\n",
              "      <td>6</td>\n",
              "      <td>2010-12-01 08:26:00</td>\n",
              "      <td>3.39</td>\n",
              "      <td>17850.0</td>\n",
              "      <td>United Kingdom</td>\n",
              "    </tr>\n",
              "  </tbody>\n",
              "</table>\n",
              "</div>"
            ],
            "text/plain": [
              "  InvoiceNo StockCode  ... CustomerID         Country\n",
              "0    536365    85123A  ...    17850.0  United Kingdom\n",
              "1    536365     71053  ...    17850.0  United Kingdom\n",
              "2    536365    84406B  ...    17850.0  United Kingdom\n",
              "3    536365    84029G  ...    17850.0  United Kingdom\n",
              "4    536365    84029E  ...    17850.0  United Kingdom\n",
              "\n",
              "[5 rows x 8 columns]"
            ]
          },
          "metadata": {
            "tags": []
          },
          "execution_count": 89
        }
      ]
    },
    {
      "cell_type": "code",
      "metadata": {
        "id": "m_SabnFhjdRH",
        "colab_type": "code",
        "outputId": "2047b130-5578-4c15-f124-d73b64dda24e",
        "colab": {
          "base_uri": "https://localhost:8080/",
          "height": 179
        }
      },
      "source": [
        "raw_data.dtypes"
      ],
      "execution_count": 0,
      "outputs": [
        {
          "output_type": "execute_result",
          "data": {
            "text/plain": [
              "InvoiceNo              object\n",
              "StockCode              object\n",
              "Description            object\n",
              "Quantity                int64\n",
              "InvoiceDate    datetime64[ns]\n",
              "UnitPrice             float64\n",
              "CustomerID            float64\n",
              "Country                object\n",
              "dtype: object"
            ]
          },
          "metadata": {
            "tags": []
          },
          "execution_count": 90
        }
      ]
    },
    {
      "cell_type": "code",
      "metadata": {
        "id": "XYNXJbdejoAM",
        "colab_type": "code",
        "colab": {}
      },
      "source": [
        "#raw_data['CustomerID'] = raw_data['CustomerID'].astype('int')"
      ],
      "execution_count": 0,
      "outputs": []
    },
    {
      "cell_type": "code",
      "metadata": {
        "id": "XJDu-H8Gk5UK",
        "colab_type": "code",
        "outputId": "3797d9f6-f09a-4d2a-c2e9-3fdc6d6e60b6",
        "colab": {
          "base_uri": "https://localhost:8080/",
          "height": 35
        }
      },
      "source": [
        "raw_data.shape"
      ],
      "execution_count": 0,
      "outputs": [
        {
          "output_type": "execute_result",
          "data": {
            "text/plain": [
              "(541909, 8)"
            ]
          },
          "metadata": {
            "tags": []
          },
          "execution_count": 92
        }
      ]
    },
    {
      "cell_type": "code",
      "metadata": {
        "id": "kBZV4nn8kyO7",
        "colab_type": "code",
        "outputId": "510a9895-45b8-4f31-c080-300472a672d8",
        "colab": {
          "base_uri": "https://localhost:8080/",
          "height": 179
        }
      },
      "source": [
        "raw_data.isnull().sum()"
      ],
      "execution_count": 0,
      "outputs": [
        {
          "output_type": "execute_result",
          "data": {
            "text/plain": [
              "InvoiceNo           0\n",
              "StockCode           0\n",
              "Description      1454\n",
              "Quantity            0\n",
              "InvoiceDate         0\n",
              "UnitPrice           0\n",
              "CustomerID     135080\n",
              "Country             0\n",
              "dtype: int64"
            ]
          },
          "metadata": {
            "tags": []
          },
          "execution_count": 93
        }
      ]
    },
    {
      "cell_type": "code",
      "metadata": {
        "id": "SGJeaIaxl2je",
        "colab_type": "code",
        "colab": {}
      },
      "source": [
        "raw_data = raw_data[pd.notnull(raw_data['CustomerID'])]"
      ],
      "execution_count": 0,
      "outputs": []
    },
    {
      "cell_type": "code",
      "metadata": {
        "id": "FsajXZbxm2CW",
        "colab_type": "code",
        "outputId": "abd7a59c-13d8-496a-ad76-2cdb23b93c96",
        "colab": {
          "base_uri": "https://localhost:8080/",
          "height": 179
        }
      },
      "source": [
        "raw_data.isnull().sum()"
      ],
      "execution_count": 0,
      "outputs": [
        {
          "output_type": "execute_result",
          "data": {
            "text/plain": [
              "InvoiceNo      0\n",
              "StockCode      0\n",
              "Description    0\n",
              "Quantity       0\n",
              "InvoiceDate    0\n",
              "UnitPrice      0\n",
              "CustomerID     0\n",
              "Country        0\n",
              "dtype: int64"
            ]
          },
          "metadata": {
            "tags": []
          },
          "execution_count": 95
        }
      ]
    },
    {
      "cell_type": "code",
      "metadata": {
        "id": "j2jfZMXnm5On",
        "colab_type": "code",
        "outputId": "13e942a5-434a-40a8-bf06-d7e87c53f4fc",
        "colab": {
          "base_uri": "https://localhost:8080/",
          "height": 35
        }
      },
      "source": [
        "raw_data.shape"
      ],
      "execution_count": 0,
      "outputs": [
        {
          "output_type": "execute_result",
          "data": {
            "text/plain": [
              "(406829, 8)"
            ]
          },
          "metadata": {
            "tags": []
          },
          "execution_count": 96
        }
      ]
    },
    {
      "cell_type": "code",
      "metadata": {
        "id": "9bX5HuOFm_EZ",
        "colab_type": "code",
        "colab": {}
      },
      "source": [
        "raw_data['CustomerID'] = raw_data['CustomerID'].astype('int')"
      ],
      "execution_count": 0,
      "outputs": []
    },
    {
      "cell_type": "code",
      "metadata": {
        "id": "zGpOe4iv2wcS",
        "colab_type": "code",
        "colab": {}
      },
      "source": [
        "raw_data['InvoiceDate'] = raw_data['InvoiceDate'].dt.date"
      ],
      "execution_count": 0,
      "outputs": []
    },
    {
      "cell_type": "code",
      "metadata": {
        "id": "nZXro--rnIk4",
        "colab_type": "code",
        "outputId": "396a3f48-fbf0-4992-fffd-dcdf13326160",
        "colab": {
          "base_uri": "https://localhost:8080/",
          "height": 203
        }
      },
      "source": [
        "raw_data.head()"
      ],
      "execution_count": 0,
      "outputs": [
        {
          "output_type": "execute_result",
          "data": {
            "text/html": [
              "<div>\n",
              "<style scoped>\n",
              "    .dataframe tbody tr th:only-of-type {\n",
              "        vertical-align: middle;\n",
              "    }\n",
              "\n",
              "    .dataframe tbody tr th {\n",
              "        vertical-align: top;\n",
              "    }\n",
              "\n",
              "    .dataframe thead th {\n",
              "        text-align: right;\n",
              "    }\n",
              "</style>\n",
              "<table border=\"1\" class=\"dataframe\">\n",
              "  <thead>\n",
              "    <tr style=\"text-align: right;\">\n",
              "      <th></th>\n",
              "      <th>InvoiceNo</th>\n",
              "      <th>StockCode</th>\n",
              "      <th>Description</th>\n",
              "      <th>Quantity</th>\n",
              "      <th>InvoiceDate</th>\n",
              "      <th>UnitPrice</th>\n",
              "      <th>CustomerID</th>\n",
              "      <th>Country</th>\n",
              "    </tr>\n",
              "  </thead>\n",
              "  <tbody>\n",
              "    <tr>\n",
              "      <th>0</th>\n",
              "      <td>536365</td>\n",
              "      <td>85123A</td>\n",
              "      <td>WHITE HANGING HEART T-LIGHT HOLDER</td>\n",
              "      <td>6</td>\n",
              "      <td>2010-12-01</td>\n",
              "      <td>2.55</td>\n",
              "      <td>17850</td>\n",
              "      <td>United Kingdom</td>\n",
              "    </tr>\n",
              "    <tr>\n",
              "      <th>1</th>\n",
              "      <td>536365</td>\n",
              "      <td>71053</td>\n",
              "      <td>WHITE METAL LANTERN</td>\n",
              "      <td>6</td>\n",
              "      <td>2010-12-01</td>\n",
              "      <td>3.39</td>\n",
              "      <td>17850</td>\n",
              "      <td>United Kingdom</td>\n",
              "    </tr>\n",
              "    <tr>\n",
              "      <th>2</th>\n",
              "      <td>536365</td>\n",
              "      <td>84406B</td>\n",
              "      <td>CREAM CUPID HEARTS COAT HANGER</td>\n",
              "      <td>8</td>\n",
              "      <td>2010-12-01</td>\n",
              "      <td>2.75</td>\n",
              "      <td>17850</td>\n",
              "      <td>United Kingdom</td>\n",
              "    </tr>\n",
              "    <tr>\n",
              "      <th>3</th>\n",
              "      <td>536365</td>\n",
              "      <td>84029G</td>\n",
              "      <td>KNITTED UNION FLAG HOT WATER BOTTLE</td>\n",
              "      <td>6</td>\n",
              "      <td>2010-12-01</td>\n",
              "      <td>3.39</td>\n",
              "      <td>17850</td>\n",
              "      <td>United Kingdom</td>\n",
              "    </tr>\n",
              "    <tr>\n",
              "      <th>4</th>\n",
              "      <td>536365</td>\n",
              "      <td>84029E</td>\n",
              "      <td>RED WOOLLY HOTTIE WHITE HEART.</td>\n",
              "      <td>6</td>\n",
              "      <td>2010-12-01</td>\n",
              "      <td>3.39</td>\n",
              "      <td>17850</td>\n",
              "      <td>United Kingdom</td>\n",
              "    </tr>\n",
              "  </tbody>\n",
              "</table>\n",
              "</div>"
            ],
            "text/plain": [
              "  InvoiceNo StockCode  ... CustomerID         Country\n",
              "0    536365    85123A  ...      17850  United Kingdom\n",
              "1    536365     71053  ...      17850  United Kingdom\n",
              "2    536365    84406B  ...      17850  United Kingdom\n",
              "3    536365    84029G  ...      17850  United Kingdom\n",
              "4    536365    84029E  ...      17850  United Kingdom\n",
              "\n",
              "[5 rows x 8 columns]"
            ]
          },
          "metadata": {
            "tags": []
          },
          "execution_count": 99
        }
      ]
    },
    {
      "cell_type": "code",
      "metadata": {
        "id": "RDTETF4snt1c",
        "colab_type": "code",
        "outputId": "d672dce4-0356-48fe-eb9c-fc71dd1adb8c",
        "colab": {
          "base_uri": "https://localhost:8080/",
          "height": 283
        }
      },
      "source": [
        "raw_data.boxplot(column = 'Quantity')"
      ],
      "execution_count": 0,
      "outputs": [
        {
          "output_type": "execute_result",
          "data": {
            "text/plain": [
              "<matplotlib.axes._subplots.AxesSubplot at 0x7fd20892cb00>"
            ]
          },
          "metadata": {
            "tags": []
          },
          "execution_count": 100
        },
        {
          "output_type": "display_data",
          "data": {
            "image/png": "[encoded data removed]",
            "text/plain": [
              "<Figure size 432x288 with 1 Axes>"
            ]
          },
          "metadata": {
            "tags": []
          }
        }
      ]
    },
    {
      "cell_type": "code",
      "metadata": {
        "id": "l5cZu8B4oUqy",
        "colab_type": "code",
        "outputId": "64f2fb59-a8b2-43c1-84e6-2b6ff8c6154a",
        "colab": {
          "base_uri": "https://localhost:8080/",
          "height": 179
        }
      },
      "source": [
        "raw_data['Quantity'].describe()"
      ],
      "execution_count": 0,
      "outputs": [
        {
          "output_type": "execute_result",
          "data": {
            "text/plain": [
              "count    406829.000000\n",
              "mean         12.061303\n",
              "std         248.693370\n",
              "min      -80995.000000\n",
              "25%           2.000000\n",
              "50%           5.000000\n",
              "75%          12.000000\n",
              "max       80995.000000\n",
              "Name: Quantity, dtype: float64"
            ]
          },
          "metadata": {
            "tags": []
          },
          "execution_count": 101
        }
      ]
    },
    {
      "cell_type": "code",
      "metadata": {
        "id": "THeCivkLofTv",
        "colab_type": "code",
        "outputId": "f9735f5e-cbe1-4a02-c763-204b0a2b162d",
        "colab": {
          "base_uri": "https://localhost:8080/",
          "height": 141
        }
      },
      "source": [
        "raw_data[raw_data['Quantity'] > 10000]"
      ],
      "execution_count": 0,
      "outputs": [
        {
          "output_type": "execute_result",
          "data": {
            "text/html": [
              "<div>\n",
              "<style scoped>\n",
              "    .dataframe tbody tr th:only-of-type {\n",
              "        vertical-align: middle;\n",
              "    }\n",
              "\n",
              "    .dataframe tbody tr th {\n",
              "        vertical-align: top;\n",
              "    }\n",
              "\n",
              "    .dataframe thead th {\n",
              "        text-align: right;\n",
              "    }\n",
              "</style>\n",
              "<table border=\"1\" class=\"dataframe\">\n",
              "  <thead>\n",
              "    <tr style=\"text-align: right;\">\n",
              "      <th></th>\n",
              "      <th>InvoiceNo</th>\n",
              "      <th>StockCode</th>\n",
              "      <th>Description</th>\n",
              "      <th>Quantity</th>\n",
              "      <th>InvoiceDate</th>\n",
              "      <th>UnitPrice</th>\n",
              "      <th>CustomerID</th>\n",
              "      <th>Country</th>\n",
              "    </tr>\n",
              "  </thead>\n",
              "  <tbody>\n",
              "    <tr>\n",
              "      <th>61619</th>\n",
              "      <td>541431</td>\n",
              "      <td>23166</td>\n",
              "      <td>MEDIUM CERAMIC TOP STORAGE JAR</td>\n",
              "      <td>74215</td>\n",
              "      <td>2011-01-18</td>\n",
              "      <td>1.04</td>\n",
              "      <td>12346</td>\n",
              "      <td>United Kingdom</td>\n",
              "    </tr>\n",
              "    <tr>\n",
              "      <th>502122</th>\n",
              "      <td>578841</td>\n",
              "      <td>84826</td>\n",
              "      <td>ASSTD DESIGN 3D PAPER STICKERS</td>\n",
              "      <td>12540</td>\n",
              "      <td>2011-11-25</td>\n",
              "      <td>0.00</td>\n",
              "      <td>13256</td>\n",
              "      <td>United Kingdom</td>\n",
              "    </tr>\n",
              "    <tr>\n",
              "      <th>540421</th>\n",
              "      <td>581483</td>\n",
              "      <td>23843</td>\n",
              "      <td>PAPER CRAFT , LITTLE BIRDIE</td>\n",
              "      <td>80995</td>\n",
              "      <td>2011-12-09</td>\n",
              "      <td>2.08</td>\n",
              "      <td>16446</td>\n",
              "      <td>United Kingdom</td>\n",
              "    </tr>\n",
              "  </tbody>\n",
              "</table>\n",
              "</div>"
            ],
            "text/plain": [
              "       InvoiceNo StockCode  ... CustomerID         Country\n",
              "61619     541431     23166  ...      12346  United Kingdom\n",
              "502122    578841     84826  ...      13256  United Kingdom\n",
              "540421    581483     23843  ...      16446  United Kingdom\n",
              "\n",
              "[3 rows x 8 columns]"
            ]
          },
          "metadata": {
            "tags": []
          },
          "execution_count": 102
        }
      ]
    },
    {
      "cell_type": "code",
      "metadata": {
        "id": "_WRAh-kTpKrY",
        "colab_type": "code",
        "outputId": "b679be99-fa45-4dce-efea-0cc925075d95",
        "colab": {
          "base_uri": "https://localhost:8080/",
          "height": 1000
        }
      },
      "source": [
        "raw_data[raw_data['UnitPrice'] == 0]"
      ],
      "execution_count": 0,
      "outputs": [
        {
          "output_type": "execute_result",
          "data": {
            "text/html": [
              "<div>\n",
              "<style scoped>\n",
              "    .dataframe tbody tr th:only-of-type {\n",
              "        vertical-align: middle;\n",
              "    }\n",
              "\n",
              "    .dataframe tbody tr th {\n",
              "        vertical-align: top;\n",
              "    }\n",
              "\n",
              "    .dataframe thead th {\n",
              "        text-align: right;\n",
              "    }\n",
              "</style>\n",
              "<table border=\"1\" class=\"dataframe\">\n",
              "  <thead>\n",
              "    <tr style=\"text-align: right;\">\n",
              "      <th></th>\n",
              "      <th>InvoiceNo</th>\n",
              "      <th>StockCode</th>\n",
              "      <th>Description</th>\n",
              "      <th>Quantity</th>\n",
              "      <th>InvoiceDate</th>\n",
              "      <th>UnitPrice</th>\n",
              "      <th>CustomerID</th>\n",
              "      <th>Country</th>\n",
              "    </tr>\n",
              "  </thead>\n",
              "  <tbody>\n",
              "    <tr>\n",
              "      <th>9302</th>\n",
              "      <td>537197</td>\n",
              "      <td>22841</td>\n",
              "      <td>ROUND CAKE TIN VINTAGE GREEN</td>\n",
              "      <td>1</td>\n",
              "      <td>2010-12-05</td>\n",
              "      <td>0.0</td>\n",
              "      <td>12647</td>\n",
              "      <td>Germany</td>\n",
              "    </tr>\n",
              "    <tr>\n",
              "      <th>33576</th>\n",
              "      <td>539263</td>\n",
              "      <td>22580</td>\n",
              "      <td>ADVENT CALENDAR GINGHAM SACK</td>\n",
              "      <td>4</td>\n",
              "      <td>2010-12-16</td>\n",
              "      <td>0.0</td>\n",
              "      <td>16560</td>\n",
              "      <td>United Kingdom</td>\n",
              "    </tr>\n",
              "    <tr>\n",
              "      <th>40089</th>\n",
              "      <td>539722</td>\n",
              "      <td>22423</td>\n",
              "      <td>REGENCY CAKESTAND 3 TIER</td>\n",
              "      <td>10</td>\n",
              "      <td>2010-12-21</td>\n",
              "      <td>0.0</td>\n",
              "      <td>14911</td>\n",
              "      <td>EIRE</td>\n",
              "    </tr>\n",
              "    <tr>\n",
              "      <th>47068</th>\n",
              "      <td>540372</td>\n",
              "      <td>22090</td>\n",
              "      <td>PAPER BUNTING RETROSPOT</td>\n",
              "      <td>24</td>\n",
              "      <td>2011-01-06</td>\n",
              "      <td>0.0</td>\n",
              "      <td>13081</td>\n",
              "      <td>United Kingdom</td>\n",
              "    </tr>\n",
              "    <tr>\n",
              "      <th>47070</th>\n",
              "      <td>540372</td>\n",
              "      <td>22553</td>\n",
              "      <td>PLASTERS IN TIN SKULLS</td>\n",
              "      <td>24</td>\n",
              "      <td>2011-01-06</td>\n",
              "      <td>0.0</td>\n",
              "      <td>13081</td>\n",
              "      <td>United Kingdom</td>\n",
              "    </tr>\n",
              "    <tr>\n",
              "      <th>56674</th>\n",
              "      <td>541109</td>\n",
              "      <td>22168</td>\n",
              "      <td>ORGANISER WOOD ANTIQUE WHITE</td>\n",
              "      <td>1</td>\n",
              "      <td>2011-01-13</td>\n",
              "      <td>0.0</td>\n",
              "      <td>15107</td>\n",
              "      <td>United Kingdom</td>\n",
              "    </tr>\n",
              "    <tr>\n",
              "      <th>86789</th>\n",
              "      <td>543599</td>\n",
              "      <td>84535B</td>\n",
              "      <td>FAIRY CAKES NOTEBOOK A6 SIZE</td>\n",
              "      <td>16</td>\n",
              "      <td>2011-02-10</td>\n",
              "      <td>0.0</td>\n",
              "      <td>17560</td>\n",
              "      <td>United Kingdom</td>\n",
              "    </tr>\n",
              "    <tr>\n",
              "      <th>130188</th>\n",
              "      <td>547417</td>\n",
              "      <td>22062</td>\n",
              "      <td>CERAMIC BOWL WITH LOVE HEART DESIGN</td>\n",
              "      <td>36</td>\n",
              "      <td>2011-03-23</td>\n",
              "      <td>0.0</td>\n",
              "      <td>13239</td>\n",
              "      <td>United Kingdom</td>\n",
              "    </tr>\n",
              "    <tr>\n",
              "      <th>139453</th>\n",
              "      <td>548318</td>\n",
              "      <td>22055</td>\n",
              "      <td>MINI CAKE STAND  HANGING STRAWBERY</td>\n",
              "      <td>5</td>\n",
              "      <td>2011-03-30</td>\n",
              "      <td>0.0</td>\n",
              "      <td>13113</td>\n",
              "      <td>United Kingdom</td>\n",
              "    </tr>\n",
              "    <tr>\n",
              "      <th>145208</th>\n",
              "      <td>548871</td>\n",
              "      <td>22162</td>\n",
              "      <td>HEART GARLAND RUSTIC PADDED</td>\n",
              "      <td>2</td>\n",
              "      <td>2011-04-04</td>\n",
              "      <td>0.0</td>\n",
              "      <td>14410</td>\n",
              "      <td>United Kingdom</td>\n",
              "    </tr>\n",
              "    <tr>\n",
              "      <th>157042</th>\n",
              "      <td>550188</td>\n",
              "      <td>22636</td>\n",
              "      <td>CHILDS BREAKFAST SET CIRCUS PARADE</td>\n",
              "      <td>1</td>\n",
              "      <td>2011-04-14</td>\n",
              "      <td>0.0</td>\n",
              "      <td>12457</td>\n",
              "      <td>Switzerland</td>\n",
              "    </tr>\n",
              "    <tr>\n",
              "      <th>187613</th>\n",
              "      <td>553000</td>\n",
              "      <td>47566</td>\n",
              "      <td>PARTY BUNTING</td>\n",
              "      <td>4</td>\n",
              "      <td>2011-05-12</td>\n",
              "      <td>0.0</td>\n",
              "      <td>17667</td>\n",
              "      <td>United Kingdom</td>\n",
              "    </tr>\n",
              "    <tr>\n",
              "      <th>198383</th>\n",
              "      <td>554037</td>\n",
              "      <td>22619</td>\n",
              "      <td>SET OF 6 SOLDIER SKITTLES</td>\n",
              "      <td>80</td>\n",
              "      <td>2011-05-20</td>\n",
              "      <td>0.0</td>\n",
              "      <td>12415</td>\n",
              "      <td>Australia</td>\n",
              "    </tr>\n",
              "    <tr>\n",
              "      <th>279324</th>\n",
              "      <td>561284</td>\n",
              "      <td>22167</td>\n",
              "      <td>OVAL WALL MIRROR DIAMANTE</td>\n",
              "      <td>1</td>\n",
              "      <td>2011-07-26</td>\n",
              "      <td>0.0</td>\n",
              "      <td>16818</td>\n",
              "      <td>United Kingdom</td>\n",
              "    </tr>\n",
              "    <tr>\n",
              "      <th>282912</th>\n",
              "      <td>561669</td>\n",
              "      <td>22960</td>\n",
              "      <td>JAM MAKING SET WITH JARS</td>\n",
              "      <td>11</td>\n",
              "      <td>2011-07-28</td>\n",
              "      <td>0.0</td>\n",
              "      <td>12507</td>\n",
              "      <td>Spain</td>\n",
              "    </tr>\n",
              "    <tr>\n",
              "      <th>285657</th>\n",
              "      <td>561916</td>\n",
              "      <td>M</td>\n",
              "      <td>Manual</td>\n",
              "      <td>1</td>\n",
              "      <td>2011-08-01</td>\n",
              "      <td>0.0</td>\n",
              "      <td>15581</td>\n",
              "      <td>United Kingdom</td>\n",
              "    </tr>\n",
              "    <tr>\n",
              "      <th>298054</th>\n",
              "      <td>562973</td>\n",
              "      <td>23157</td>\n",
              "      <td>SET OF 6 NATIVITY MAGNETS</td>\n",
              "      <td>240</td>\n",
              "      <td>2011-08-11</td>\n",
              "      <td>0.0</td>\n",
              "      <td>14911</td>\n",
              "      <td>EIRE</td>\n",
              "    </tr>\n",
              "    <tr>\n",
              "      <th>314745</th>\n",
              "      <td>564651</td>\n",
              "      <td>23270</td>\n",
              "      <td>SET OF 2 CERAMIC PAINTED HEARTS</td>\n",
              "      <td>96</td>\n",
              "      <td>2011-08-26</td>\n",
              "      <td>0.0</td>\n",
              "      <td>14646</td>\n",
              "      <td>Netherlands</td>\n",
              "    </tr>\n",
              "    <tr>\n",
              "      <th>314746</th>\n",
              "      <td>564651</td>\n",
              "      <td>23268</td>\n",
              "      <td>SET OF 2 CERAMIC CHRISTMAS REINDEER</td>\n",
              "      <td>192</td>\n",
              "      <td>2011-08-26</td>\n",
              "      <td>0.0</td>\n",
              "      <td>14646</td>\n",
              "      <td>Netherlands</td>\n",
              "    </tr>\n",
              "    <tr>\n",
              "      <th>314747</th>\n",
              "      <td>564651</td>\n",
              "      <td>22955</td>\n",
              "      <td>36 FOIL STAR CAKE CASES</td>\n",
              "      <td>144</td>\n",
              "      <td>2011-08-26</td>\n",
              "      <td>0.0</td>\n",
              "      <td>14646</td>\n",
              "      <td>Netherlands</td>\n",
              "    </tr>\n",
              "    <tr>\n",
              "      <th>314748</th>\n",
              "      <td>564651</td>\n",
              "      <td>21786</td>\n",
              "      <td>POLKADOT RAIN HAT</td>\n",
              "      <td>144</td>\n",
              "      <td>2011-08-26</td>\n",
              "      <td>0.0</td>\n",
              "      <td>14646</td>\n",
              "      <td>Netherlands</td>\n",
              "    </tr>\n",
              "    <tr>\n",
              "      <th>358655</th>\n",
              "      <td>568158</td>\n",
              "      <td>PADS</td>\n",
              "      <td>PADS TO MATCH ALL CUSHIONS</td>\n",
              "      <td>1</td>\n",
              "      <td>2011-09-25</td>\n",
              "      <td>0.0</td>\n",
              "      <td>16133</td>\n",
              "      <td>United Kingdom</td>\n",
              "    </tr>\n",
              "    <tr>\n",
              "      <th>361825</th>\n",
              "      <td>568384</td>\n",
              "      <td>M</td>\n",
              "      <td>Manual</td>\n",
              "      <td>1</td>\n",
              "      <td>2011-09-27</td>\n",
              "      <td>0.0</td>\n",
              "      <td>12748</td>\n",
              "      <td>United Kingdom</td>\n",
              "    </tr>\n",
              "    <tr>\n",
              "      <th>379913</th>\n",
              "      <td>569716</td>\n",
              "      <td>22778</td>\n",
              "      <td>GLASS CLOCHE SMALL</td>\n",
              "      <td>2</td>\n",
              "      <td>2011-10-06</td>\n",
              "      <td>0.0</td>\n",
              "      <td>15804</td>\n",
              "      <td>United Kingdom</td>\n",
              "    </tr>\n",
              "    <tr>\n",
              "      <th>395529</th>\n",
              "      <td>571035</td>\n",
              "      <td>M</td>\n",
              "      <td>Manual</td>\n",
              "      <td>1</td>\n",
              "      <td>2011-10-13</td>\n",
              "      <td>0.0</td>\n",
              "      <td>12446</td>\n",
              "      <td>RSA</td>\n",
              "    </tr>\n",
              "    <tr>\n",
              "      <th>420404</th>\n",
              "      <td>572893</td>\n",
              "      <td>21208</td>\n",
              "      <td>PASTEL COLOUR HONEYCOMB FAN</td>\n",
              "      <td>5</td>\n",
              "      <td>2011-10-26</td>\n",
              "      <td>0.0</td>\n",
              "      <td>18059</td>\n",
              "      <td>United Kingdom</td>\n",
              "    </tr>\n",
              "    <tr>\n",
              "      <th>436428</th>\n",
              "      <td>574138</td>\n",
              "      <td>23234</td>\n",
              "      <td>BISCUIT TIN VINTAGE CHRISTMAS</td>\n",
              "      <td>216</td>\n",
              "      <td>2011-11-03</td>\n",
              "      <td>0.0</td>\n",
              "      <td>12415</td>\n",
              "      <td>Australia</td>\n",
              "    </tr>\n",
              "    <tr>\n",
              "      <th>436597</th>\n",
              "      <td>574175</td>\n",
              "      <td>22065</td>\n",
              "      <td>CHRISTMAS PUDDING TRINKET POT</td>\n",
              "      <td>12</td>\n",
              "      <td>2011-11-03</td>\n",
              "      <td>0.0</td>\n",
              "      <td>14110</td>\n",
              "      <td>United Kingdom</td>\n",
              "    </tr>\n",
              "    <tr>\n",
              "      <th>436961</th>\n",
              "      <td>574252</td>\n",
              "      <td>M</td>\n",
              "      <td>Manual</td>\n",
              "      <td>1</td>\n",
              "      <td>2011-11-03</td>\n",
              "      <td>0.0</td>\n",
              "      <td>12437</td>\n",
              "      <td>France</td>\n",
              "    </tr>\n",
              "    <tr>\n",
              "      <th>439361</th>\n",
              "      <td>574469</td>\n",
              "      <td>22385</td>\n",
              "      <td>JUMBO BAG SPACEBOY DESIGN</td>\n",
              "      <td>12</td>\n",
              "      <td>2011-11-04</td>\n",
              "      <td>0.0</td>\n",
              "      <td>12431</td>\n",
              "      <td>Australia</td>\n",
              "    </tr>\n",
              "    <tr>\n",
              "      <th>446125</th>\n",
              "      <td>574879</td>\n",
              "      <td>22625</td>\n",
              "      <td>RED KITCHEN SCALES</td>\n",
              "      <td>2</td>\n",
              "      <td>2011-11-07</td>\n",
              "      <td>0.0</td>\n",
              "      <td>13014</td>\n",
              "      <td>United Kingdom</td>\n",
              "    </tr>\n",
              "    <tr>\n",
              "      <th>446793</th>\n",
              "      <td>574920</td>\n",
              "      <td>22899</td>\n",
              "      <td>CHILDREN'S APRON DOLLY GIRL</td>\n",
              "      <td>1</td>\n",
              "      <td>2011-11-07</td>\n",
              "      <td>0.0</td>\n",
              "      <td>13985</td>\n",
              "      <td>United Kingdom</td>\n",
              "    </tr>\n",
              "    <tr>\n",
              "      <th>446794</th>\n",
              "      <td>574920</td>\n",
              "      <td>23480</td>\n",
              "      <td>MINI LIGHTS WOODLAND MUSHROOMS</td>\n",
              "      <td>1</td>\n",
              "      <td>2011-11-07</td>\n",
              "      <td>0.0</td>\n",
              "      <td>13985</td>\n",
              "      <td>United Kingdom</td>\n",
              "    </tr>\n",
              "    <tr>\n",
              "      <th>454463</th>\n",
              "      <td>575579</td>\n",
              "      <td>22437</td>\n",
              "      <td>SET OF 9 BLACK SKULL BALLOONS</td>\n",
              "      <td>20</td>\n",
              "      <td>2011-11-10</td>\n",
              "      <td>0.0</td>\n",
              "      <td>13081</td>\n",
              "      <td>United Kingdom</td>\n",
              "    </tr>\n",
              "    <tr>\n",
              "      <th>454464</th>\n",
              "      <td>575579</td>\n",
              "      <td>22089</td>\n",
              "      <td>PAPER BUNTING VINTAGE PAISLEY</td>\n",
              "      <td>24</td>\n",
              "      <td>2011-11-10</td>\n",
              "      <td>0.0</td>\n",
              "      <td>13081</td>\n",
              "      <td>United Kingdom</td>\n",
              "    </tr>\n",
              "    <tr>\n",
              "      <th>479079</th>\n",
              "      <td>577129</td>\n",
              "      <td>22464</td>\n",
              "      <td>HANGING METAL HEART LANTERN</td>\n",
              "      <td>4</td>\n",
              "      <td>2011-11-17</td>\n",
              "      <td>0.0</td>\n",
              "      <td>15602</td>\n",
              "      <td>United Kingdom</td>\n",
              "    </tr>\n",
              "    <tr>\n",
              "      <th>479546</th>\n",
              "      <td>577168</td>\n",
              "      <td>M</td>\n",
              "      <td>Manual</td>\n",
              "      <td>1</td>\n",
              "      <td>2011-11-18</td>\n",
              "      <td>0.0</td>\n",
              "      <td>12603</td>\n",
              "      <td>Germany</td>\n",
              "    </tr>\n",
              "    <tr>\n",
              "      <th>480649</th>\n",
              "      <td>577314</td>\n",
              "      <td>23407</td>\n",
              "      <td>SET OF 2 TRAYS HOME SWEET HOME</td>\n",
              "      <td>2</td>\n",
              "      <td>2011-11-18</td>\n",
              "      <td>0.0</td>\n",
              "      <td>12444</td>\n",
              "      <td>Norway</td>\n",
              "    </tr>\n",
              "    <tr>\n",
              "      <th>485985</th>\n",
              "      <td>577696</td>\n",
              "      <td>M</td>\n",
              "      <td>Manual</td>\n",
              "      <td>1</td>\n",
              "      <td>2011-11-21</td>\n",
              "      <td>0.0</td>\n",
              "      <td>16406</td>\n",
              "      <td>United Kingdom</td>\n",
              "    </tr>\n",
              "    <tr>\n",
              "      <th>502122</th>\n",
              "      <td>578841</td>\n",
              "      <td>84826</td>\n",
              "      <td>ASSTD DESIGN 3D PAPER STICKERS</td>\n",
              "      <td>12540</td>\n",
              "      <td>2011-11-25</td>\n",
              "      <td>0.0</td>\n",
              "      <td>13256</td>\n",
              "      <td>United Kingdom</td>\n",
              "    </tr>\n",
              "  </tbody>\n",
              "</table>\n",
              "</div>"
            ],
            "text/plain": [
              "       InvoiceNo StockCode  ... CustomerID         Country\n",
              "9302      537197     22841  ...      12647         Germany\n",
              "33576     539263     22580  ...      16560  United Kingdom\n",
              "40089     539722     22423  ...      14911            EIRE\n",
              "47068     540372     22090  ...      13081  United Kingdom\n",
              "47070     540372     22553  ...      13081  United Kingdom\n",
              "56674     541109     22168  ...      15107  United Kingdom\n",
              "86789     543599    84535B  ...      17560  United Kingdom\n",
              "130188    547417     22062  ...      13239  United Kingdom\n",
              "139453    548318     22055  ...      13113  United Kingdom\n",
              "145208    548871     22162  ...      14410  United Kingdom\n",
              "157042    550188     22636  ...      12457     Switzerland\n",
              "187613    553000     47566  ...      17667  United Kingdom\n",
              "198383    554037     22619  ...      12415       Australia\n",
              "279324    561284     22167  ...      16818  United Kingdom\n",
              "282912    561669     22960  ...      12507           Spain\n",
              "285657    561916         M  ...      15581  United Kingdom\n",
              "298054    562973     23157  ...      14911            EIRE\n",
              "314745    564651     23270  ...      14646     Netherlands\n",
              "314746    564651     23268  ...      14646     Netherlands\n",
              "314747    564651     22955  ...      14646     Netherlands\n",
              "314748    564651     21786  ...      14646     Netherlands\n",
              "358655    568158      PADS  ...      16133  United Kingdom\n",
              "361825    568384         M  ...      12748  United Kingdom\n",
              "379913    569716     22778  ...      15804  United Kingdom\n",
              "395529    571035         M  ...      12446             RSA\n",
              "420404    572893     21208  ...      18059  United Kingdom\n",
              "436428    574138     23234  ...      12415       Australia\n",
              "436597    574175     22065  ...      14110  United Kingdom\n",
              "436961    574252         M  ...      12437          France\n",
              "439361    574469     22385  ...      12431       Australia\n",
              "446125    574879     22625  ...      13014  United Kingdom\n",
              "446793    574920     22899  ...      13985  United Kingdom\n",
              "446794    574920     23480  ...      13985  United Kingdom\n",
              "454463    575579     22437  ...      13081  United Kingdom\n",
              "454464    575579     22089  ...      13081  United Kingdom\n",
              "479079    577129     22464  ...      15602  United Kingdom\n",
              "479546    577168         M  ...      12603         Germany\n",
              "480649    577314     23407  ...      12444          Norway\n",
              "485985    577696         M  ...      16406  United Kingdom\n",
              "502122    578841     84826  ...      13256  United Kingdom\n",
              "\n",
              "[40 rows x 8 columns]"
            ]
          },
          "metadata": {
            "tags": []
          },
          "execution_count": 103
        }
      ]
    },
    {
      "cell_type": "code",
      "metadata": {
        "id": "02MlxmYKoywi",
        "colab_type": "code",
        "outputId": "c6a78815-44b4-4371-b837-319346db4444",
        "colab": {
          "base_uri": "https://localhost:8080/",
          "height": 35
        }
      },
      "source": [
        "raw_data['CustomerID'].nunique(), raw_data['InvoiceNo'].nunique(), raw_data['StockCode'].nunique()"
      ],
      "execution_count": 0,
      "outputs": [
        {
          "output_type": "execute_result",
          "data": {
            "text/plain": [
              "(4372, 22190, 3684)"
            ]
          },
          "metadata": {
            "tags": []
          },
          "execution_count": 104
        }
      ]
    },
    {
      "cell_type": "code",
      "metadata": {
        "id": "nQWiNwuV1HTc",
        "colab_type": "code",
        "outputId": "7b3b605f-ae94-4ff4-f0ff-8fd758595461",
        "colab": {
          "base_uri": "https://localhost:8080/",
          "height": 125
        }
      },
      "source": [
        "raw_data['Country'].value_counts().head()"
      ],
      "execution_count": 0,
      "outputs": [
        {
          "output_type": "execute_result",
          "data": {
            "text/plain": [
              "United Kingdom    361878\n",
              "Germany             9495\n",
              "France              8491\n",
              "EIRE                7485\n",
              "Spain               2533\n",
              "Name: Country, dtype: int64"
            ]
          },
          "metadata": {
            "tags": []
          },
          "execution_count": 105
        }
      ]
    },
    {
      "cell_type": "code",
      "metadata": {
        "id": "d3ftVFDN_n1X",
        "colab_type": "code",
        "colab": {}
      },
      "source": [
        "raw_data['TotalAmount'] = raw_data['Quantity'] * raw_data['UnitPrice']"
      ],
      "execution_count": 0,
      "outputs": []
    },
    {
      "cell_type": "code",
      "metadata": {
        "id": "kXHm8evm2F04",
        "colab_type": "code",
        "colab": {}
      },
      "source": [
        "# raw_data.groupby('CustomerID')[['InvoiceDate','InvoiceNo','TotalAmount']].agg(['max','count','sum'])"
      ],
      "execution_count": 0,
      "outputs": []
    },
    {
      "cell_type": "code",
      "metadata": {
        "id": "NTsTOqee01i4",
        "colab_type": "code",
        "outputId": "1dd02b37-c189-4553-a4d7-602a24b6b13a",
        "colab": {
          "base_uri": "https://localhost:8080/",
          "height": 233
        }
      },
      "source": [
        "# checking record per dates\n",
        "raw_data['InvoiceDate'].value_counts().sort_index()"
      ],
      "execution_count": 0,
      "outputs": [
        {
          "output_type": "execute_result",
          "data": {
            "text/plain": [
              "2010-12-01    1968\n",
              "2010-12-02    2044\n",
              "2010-12-03    1117\n",
              "2010-12-05    2724\n",
              "2010-12-06    1974\n",
              "              ... \n",
              "2011-12-05    3398\n",
              "2011-12-06    2654\n",
              "2011-12-07    2196\n",
              "2011-12-08    2599\n",
              "2011-12-09     624\n",
              "Name: InvoiceDate, Length: 305, dtype: int64"
            ]
          },
          "metadata": {
            "tags": []
          },
          "execution_count": 108
        }
      ]
    },
    {
      "cell_type": "code",
      "metadata": {
        "id": "N4Wyvoud2l3t",
        "colab_type": "code",
        "colab": {}
      },
      "source": [
        "# making splits of data\n",
        "raw_data_4mon_1 = raw_data[raw_data['InvoiceDate'] < pd.to_datetime('2011-04-1').date()]\n",
        "raw_data_4mon_2 = raw_data[(raw_data['InvoiceDate'] >= pd.to_datetime('2011-04-1').date()) & (raw_data['InvoiceDate'] < pd.to_datetime('2011-08-1').date())]\n",
        "raw_data_4mon_3 = raw_data[raw_data['InvoiceDate'] >= pd.to_datetime('2011-08-1').date()]\n",
        "\n",
        "raw_data_6mon_1 = raw_data[raw_data['InvoiceDate'] < pd.to_datetime('2011-06-1').date()]\n",
        "raw_data_6mon_2 = raw_data[raw_data['InvoiceDate'] >= pd.to_datetime('2011-06-1').date()]"
      ],
      "execution_count": 0,
      "outputs": []
    },
    {
      "cell_type": "code",
      "metadata": {
        "id": "pJXD6LJG5W6D",
        "colab_type": "code",
        "outputId": "1f11b97d-6040-49dd-cda9-277c979290d6",
        "colab": {
          "base_uri": "https://localhost:8080/",
          "height": 107
        }
      },
      "source": [
        "print(raw_data_4mon_1['InvoiceDate'].min(), raw_data_4mon_1['InvoiceDate'].max())\n",
        "print(raw_data_4mon_2['InvoiceDate'].min(), raw_data_4mon_2['InvoiceDate'].max())\n",
        "print(raw_data_4mon_3['InvoiceDate'].min(), raw_data_4mon_3['InvoiceDate'].max())\n",
        "print(raw_data_6mon_1['InvoiceDate'].min(), raw_data_6mon_1['InvoiceDate'].max())\n",
        "print(raw_data_6mon_2['InvoiceDate'].min(), raw_data_6mon_2['InvoiceDate'].max())"
      ],
      "execution_count": 0,
      "outputs": [
        {
          "output_type": "stream",
          "text": [
            "2010-12-01 2011-03-31\n",
            "2011-04-01 2011-07-31\n",
            "2011-08-01 2011-12-09\n",
            "2010-12-01 2011-05-31\n",
            "2011-06-01 2011-12-09\n"
          ],
          "name": "stdout"
        }
      ]
    },
    {
      "cell_type": "code",
      "metadata": {
        "id": "fTlRJoBz5lsR",
        "colab_type": "code",
        "outputId": "c1891562-0758-44a4-9252-6bf81f5308c3",
        "colab": {
          "base_uri": "https://localhost:8080/",
          "height": 203
        }
      },
      "source": [
        "# RFM for each timeframe:\n",
        "\n",
        "date_t_4mon_1 = raw_data_4mon_1.groupby('CustomerID')['InvoiceDate'].max().to_frame()\n",
        "date_t_4mon_1.reset_index(inplace = True)\n",
        "freq_4mon_1 = raw_data_4mon_1.groupby('CustomerID')['InvoiceNo'].count().to_frame()\n",
        "freq_4mon_1.reset_index(inplace = True)\n",
        "monet_4mon_1 = raw_data_4mon_1.groupby('CustomerID')['TotalAmount'].sum().to_frame()\n",
        "monet_4mon_1.reset_index(inplace = True)\n",
        "rfm_data_4mon_1 = date_t_4mon_1.merge(freq_4mon_1, how = 'inner', on = 'CustomerID')\n",
        "rfm_data_4mon_1 = rfm_data_4mon_1.merge(monet_4mon_1, how = 'inner', on = 'CustomerID')\n",
        "rfm_data_4mon_1.columns = ['CustomerID','Recency','Frequency','Monetory']\n",
        "rfm_data_4mon_1['Recency'] = (raw_data_4mon_1['InvoiceDate'].max() - rfm_data_4mon_1['Recency']).astype('timedelta64[D]').astype(int)\n",
        "rfm_data_4mon_1.head()"
      ],
      "execution_count": 0,
      "outputs": [
        {
          "output_type": "execute_result",
          "data": {
            "text/html": [
              "<div>\n",
              "<style scoped>\n",
              "    .dataframe tbody tr th:only-of-type {\n",
              "        vertical-align: middle;\n",
              "    }\n",
              "\n",
              "    .dataframe tbody tr th {\n",
              "        vertical-align: top;\n",
              "    }\n",
              "\n",
              "    .dataframe thead th {\n",
              "        text-align: right;\n",
              "    }\n",
              "</style>\n",
              "<table border=\"1\" class=\"dataframe\">\n",
              "  <thead>\n",
              "    <tr style=\"text-align: right;\">\n",
              "      <th></th>\n",
              "      <th>CustomerID</th>\n",
              "      <th>Recency</th>\n",
              "      <th>Frequency</th>\n",
              "      <th>Monetory</th>\n",
              "    </tr>\n",
              "  </thead>\n",
              "  <tbody>\n",
              "    <tr>\n",
              "      <th>0</th>\n",
              "      <td>12346</td>\n",
              "      <td>72</td>\n",
              "      <td>2</td>\n",
              "      <td>0.00</td>\n",
              "    </tr>\n",
              "    <tr>\n",
              "      <th>1</th>\n",
              "      <td>12347</td>\n",
              "      <td>64</td>\n",
              "      <td>60</td>\n",
              "      <td>1187.18</td>\n",
              "    </tr>\n",
              "    <tr>\n",
              "      <th>2</th>\n",
              "      <td>12348</td>\n",
              "      <td>65</td>\n",
              "      <td>23</td>\n",
              "      <td>1120.24</td>\n",
              "    </tr>\n",
              "    <tr>\n",
              "      <th>3</th>\n",
              "      <td>12350</td>\n",
              "      <td>57</td>\n",
              "      <td>17</td>\n",
              "      <td>334.40</td>\n",
              "    </tr>\n",
              "    <tr>\n",
              "      <th>4</th>\n",
              "      <td>12352</td>\n",
              "      <td>9</td>\n",
              "      <td>48</td>\n",
              "      <td>601.18</td>\n",
              "    </tr>\n",
              "  </tbody>\n",
              "</table>\n",
              "</div>"
            ],
            "text/plain": [
              "   CustomerID  Recency  Frequency  Monetory\n",
              "0       12346       72          2      0.00\n",
              "1       12347       64         60   1187.18\n",
              "2       12348       65         23   1120.24\n",
              "3       12350       57         17    334.40\n",
              "4       12352        9         48    601.18"
            ]
          },
          "metadata": {
            "tags": []
          },
          "execution_count": 111
        }
      ]
    },
    {
      "cell_type": "code",
      "metadata": {
        "id": "s7axtTPv65tw",
        "colab_type": "code",
        "outputId": "10e6bdb7-c11b-4b8c-ffe3-58f8555e8293",
        "colab": {
          "base_uri": "https://localhost:8080/",
          "height": 203
        }
      },
      "source": [
        "date_t_4mon_2 = raw_data_4mon_2.groupby('CustomerID')['InvoiceDate'].max().to_frame()\n",
        "date_t_4mon_2.reset_index(inplace = True)\n",
        "freq_4mon_2 = raw_data_4mon_2.groupby('CustomerID')['InvoiceNo'].count().to_frame()\n",
        "freq_4mon_2.reset_index(inplace = True)\n",
        "monet_4mon_2 = raw_data_4mon_2.groupby('CustomerID')['TotalAmount'].sum().to_frame()\n",
        "monet_4mon_2.reset_index(inplace = True)\n",
        "\n",
        "rfm_data_4mon_2 = date_t_4mon_2.merge(freq_4mon_2, how = 'inner', on = 'CustomerID')\n",
        "rfm_data_4mon_2 = rfm_data_4mon_2.merge(monet_4mon_2, how = 'inner', on = 'CustomerID')\n",
        "rfm_data_4mon_2.columns = ['CustomerID','Recency','Frequency','Monetory']\n",
        "rfm_data_4mon_2['Recency'] = (raw_data_4mon_2['InvoiceDate'].max() - rfm_data_4mon_2['Recency']).astype('timedelta64[D]').astype(int)\n",
        "rfm_data_4mon_2.head()"
      ],
      "execution_count": 0,
      "outputs": [
        {
          "output_type": "execute_result",
          "data": {
            "text/html": [
              "<div>\n",
              "<style scoped>\n",
              "    .dataframe tbody tr th:only-of-type {\n",
              "        vertical-align: middle;\n",
              "    }\n",
              "\n",
              "    .dataframe tbody tr th {\n",
              "        vertical-align: top;\n",
              "    }\n",
              "\n",
              "    .dataframe thead th {\n",
              "        text-align: right;\n",
              "    }\n",
              "</style>\n",
              "<table border=\"1\" class=\"dataframe\">\n",
              "  <thead>\n",
              "    <tr style=\"text-align: right;\">\n",
              "      <th></th>\n",
              "      <th>CustomerID</th>\n",
              "      <th>Recency</th>\n",
              "      <th>Frequency</th>\n",
              "      <th>Monetory</th>\n",
              "    </tr>\n",
              "  </thead>\n",
              "  <tbody>\n",
              "    <tr>\n",
              "      <th>0</th>\n",
              "      <td>12347</td>\n",
              "      <td>52</td>\n",
              "      <td>42</td>\n",
              "      <td>1018.77</td>\n",
              "    </tr>\n",
              "    <tr>\n",
              "      <th>1</th>\n",
              "      <td>12348</td>\n",
              "      <td>117</td>\n",
              "      <td>5</td>\n",
              "      <td>367.00</td>\n",
              "    </tr>\n",
              "    <tr>\n",
              "      <th>2</th>\n",
              "      <td>12353</td>\n",
              "      <td>73</td>\n",
              "      <td>4</td>\n",
              "      <td>89.00</td>\n",
              "    </tr>\n",
              "    <tr>\n",
              "      <th>3</th>\n",
              "      <td>12354</td>\n",
              "      <td>101</td>\n",
              "      <td>58</td>\n",
              "      <td>1079.40</td>\n",
              "    </tr>\n",
              "    <tr>\n",
              "      <th>4</th>\n",
              "      <td>12355</td>\n",
              "      <td>83</td>\n",
              "      <td>13</td>\n",
              "      <td>459.40</td>\n",
              "    </tr>\n",
              "  </tbody>\n",
              "</table>\n",
              "</div>"
            ],
            "text/plain": [
              "   CustomerID  Recency  Frequency  Monetory\n",
              "0       12347       52         42   1018.77\n",
              "1       12348      117          5    367.00\n",
              "2       12353       73          4     89.00\n",
              "3       12354      101         58   1079.40\n",
              "4       12355       83         13    459.40"
            ]
          },
          "metadata": {
            "tags": []
          },
          "execution_count": 112
        }
      ]
    },
    {
      "cell_type": "code",
      "metadata": {
        "id": "1xrBx-UF7E_k",
        "colab_type": "code",
        "outputId": "7ee2dd19-65cb-4f09-86dc-c4bb7a62a082",
        "colab": {
          "base_uri": "https://localhost:8080/",
          "height": 203
        }
      },
      "source": [
        "date_t_4mon_3 = raw_data_4mon_3.groupby('CustomerID')['InvoiceDate'].max().to_frame()\n",
        "date_t_4mon_3.reset_index(inplace = True)\n",
        "freq_4mon_3 = raw_data_4mon_3.groupby('CustomerID')['InvoiceNo'].count().to_frame()\n",
        "freq_4mon_3.reset_index(inplace = True)\n",
        "monet_4mon_3 = raw_data_4mon_3.groupby('CustomerID')['TotalAmount'].sum().to_frame()\n",
        "monet_4mon_3.reset_index(inplace = True)\n",
        "\n",
        "rfm_data_4mon_3 = date_t_4mon_3.merge(freq_4mon_3, how = 'inner', on = 'CustomerID')\n",
        "rfm_data_4mon_3 = rfm_data_4mon_3.merge(monet_4mon_3, how = 'inner', on = 'CustomerID')\n",
        "rfm_data_4mon_3.columns = ['CustomerID','Recency','Frequency','Monetory']\n",
        "rfm_data_4mon_3['Recency'] = (raw_data_4mon_3['InvoiceDate'].max() - rfm_data_4mon_3['Recency']).astype('timedelta64[D]').astype(int)\n",
        "rfm_data_4mon_3.head()"
      ],
      "execution_count": 0,
      "outputs": [
        {
          "output_type": "execute_result",
          "data": {
            "text/html": [
              "<div>\n",
              "<style scoped>\n",
              "    .dataframe tbody tr th:only-of-type {\n",
              "        vertical-align: middle;\n",
              "    }\n",
              "\n",
              "    .dataframe tbody tr th {\n",
              "        vertical-align: top;\n",
              "    }\n",
              "\n",
              "    .dataframe thead th {\n",
              "        text-align: right;\n",
              "    }\n",
              "</style>\n",
              "<table border=\"1\" class=\"dataframe\">\n",
              "  <thead>\n",
              "    <tr style=\"text-align: right;\">\n",
              "      <th></th>\n",
              "      <th>CustomerID</th>\n",
              "      <th>Recency</th>\n",
              "      <th>Frequency</th>\n",
              "      <th>Monetory</th>\n",
              "    </tr>\n",
              "  </thead>\n",
              "  <tbody>\n",
              "    <tr>\n",
              "      <th>0</th>\n",
              "      <td>12347</td>\n",
              "      <td>2</td>\n",
              "      <td>80</td>\n",
              "      <td>2104.05</td>\n",
              "    </tr>\n",
              "    <tr>\n",
              "      <th>1</th>\n",
              "      <td>12348</td>\n",
              "      <td>75</td>\n",
              "      <td>3</td>\n",
              "      <td>310.00</td>\n",
              "    </tr>\n",
              "    <tr>\n",
              "      <th>2</th>\n",
              "      <td>12349</td>\n",
              "      <td>18</td>\n",
              "      <td>73</td>\n",
              "      <td>1757.55</td>\n",
              "    </tr>\n",
              "    <tr>\n",
              "      <th>3</th>\n",
              "      <td>12352</td>\n",
              "      <td>36</td>\n",
              "      <td>47</td>\n",
              "      <td>944.23</td>\n",
              "    </tr>\n",
              "    <tr>\n",
              "      <th>4</th>\n",
              "      <td>12356</td>\n",
              "      <td>22</td>\n",
              "      <td>2</td>\n",
              "      <td>58.35</td>\n",
              "    </tr>\n",
              "  </tbody>\n",
              "</table>\n",
              "</div>"
            ],
            "text/plain": [
              "   CustomerID  Recency  Frequency  Monetory\n",
              "0       12347        2         80   2104.05\n",
              "1       12348       75          3    310.00\n",
              "2       12349       18         73   1757.55\n",
              "3       12352       36         47    944.23\n",
              "4       12356       22          2     58.35"
            ]
          },
          "metadata": {
            "tags": []
          },
          "execution_count": 113
        }
      ]
    },
    {
      "cell_type": "code",
      "metadata": {
        "id": "Cb18jb_L7E8M",
        "colab_type": "code",
        "outputId": "f07d4542-1493-4186-d106-642284cb760d",
        "colab": {
          "base_uri": "https://localhost:8080/",
          "height": 203
        }
      },
      "source": [
        "date_t_6mon_2 = raw_data_6mon_2.groupby('CustomerID')['InvoiceDate'].max().to_frame()\n",
        "date_t_6mon_2.reset_index(inplace = True)\n",
        "freq_6mon_2 = raw_data_6mon_2.groupby('CustomerID')['InvoiceNo'].nunique().to_frame()\n",
        "freq_6mon_2.reset_index(inplace = True)\n",
        "monet_6mon_2 = raw_data_6mon_2.groupby('CustomerID')['TotalAmount'].sum().to_frame()\n",
        "monet_6mon_2.reset_index(inplace = True)\n",
        "distinct_items_6mon_2 = raw_data_6mon_2.groupby('CustomerID')['StockCode'].nunique().to_frame()\n",
        "distinct_items_6mon_2.reset_index(inplace = True)\n",
        "quantity_6mon_2 = raw_data_6mon_2.groupby('CustomerID')['Quantity'].sum().to_frame()\n",
        "quantity_6mon_2.reset_index(inplace = True)\n",
        "\n",
        "rfm_data_6mon_2 = date_t_6mon_2.merge(freq_6mon_2, how = 'inner', on = 'CustomerID')\n",
        "rfm_data_6mon_2 = rfm_data_6mon_2.merge(monet_6mon_2, how = 'inner', on = 'CustomerID')\n",
        "rfm_data_6mon_2 = rfm_data_6mon_2.merge(quantity_6mon_2, how = 'inner', on = 'CustomerID')\n",
        "rfm_data_6mon_2 = rfm_data_6mon_2.merge(distinct_items_6mon_2, how = 'inner', on = 'CustomerID')\n",
        "rfm_data_6mon_2.columns = ['CustomerID','Recency','Frequency','Monetory','Quantity','#Distinct_items']\n",
        "rfm_data_6mon_2['Recency'] = (raw_data_6mon_2['InvoiceDate'].max() - rfm_data_6mon_2['Recency']).astype('timedelta64[D]').astype(int)\n",
        "rfm_data_6mon_2['ASP'] = round(rfm_data_6mon_2['Monetory']/rfm_data_6mon_2['Quantity'],2)\n",
        "rfm_data_6mon_2.head()"
      ],
      "execution_count": 0,
      "outputs": [
        {
          "output_type": "execute_result",
          "data": {
            "text/html": [
              "<div>\n",
              "<style scoped>\n",
              "    .dataframe tbody tr th:only-of-type {\n",
              "        vertical-align: middle;\n",
              "    }\n",
              "\n",
              "    .dataframe tbody tr th {\n",
              "        vertical-align: top;\n",
              "    }\n",
              "\n",
              "    .dataframe thead th {\n",
              "        text-align: right;\n",
              "    }\n",
              "</style>\n",
              "<table border=\"1\" class=\"dataframe\">\n",
              "  <thead>\n",
              "    <tr style=\"text-align: right;\">\n",
              "      <th></th>\n",
              "      <th>CustomerID</th>\n",
              "      <th>Recency</th>\n",
              "      <th>Frequency</th>\n",
              "      <th>Monetory</th>\n",
              "      <th>Quantity</th>\n",
              "      <th>#Distinct_items</th>\n",
              "      <th>ASP</th>\n",
              "    </tr>\n",
              "  </thead>\n",
              "  <tbody>\n",
              "    <tr>\n",
              "      <th>0</th>\n",
              "      <td>12347</td>\n",
              "      <td>2</td>\n",
              "      <td>4</td>\n",
              "      <td>2486.57</td>\n",
              "      <td>1341</td>\n",
              "      <td>66</td>\n",
              "      <td>1.85</td>\n",
              "    </tr>\n",
              "    <tr>\n",
              "      <th>1</th>\n",
              "      <td>12348</td>\n",
              "      <td>75</td>\n",
              "      <td>1</td>\n",
              "      <td>310.00</td>\n",
              "      <td>217</td>\n",
              "      <td>3</td>\n",
              "      <td>1.43</td>\n",
              "    </tr>\n",
              "    <tr>\n",
              "      <th>2</th>\n",
              "      <td>12349</td>\n",
              "      <td>18</td>\n",
              "      <td>1</td>\n",
              "      <td>1757.55</td>\n",
              "      <td>631</td>\n",
              "      <td>73</td>\n",
              "      <td>2.79</td>\n",
              "    </tr>\n",
              "    <tr>\n",
              "      <th>3</th>\n",
              "      <td>12352</td>\n",
              "      <td>36</td>\n",
              "      <td>3</td>\n",
              "      <td>944.23</td>\n",
              "      <td>282</td>\n",
              "      <td>39</td>\n",
              "      <td>3.35</td>\n",
              "    </tr>\n",
              "    <tr>\n",
              "      <th>4</th>\n",
              "      <td>12356</td>\n",
              "      <td>22</td>\n",
              "      <td>1</td>\n",
              "      <td>58.35</td>\n",
              "      <td>5</td>\n",
              "      <td>2</td>\n",
              "      <td>11.67</td>\n",
              "    </tr>\n",
              "  </tbody>\n",
              "</table>\n",
              "</div>"
            ],
            "text/plain": [
              "   CustomerID  Recency  Frequency  Monetory  Quantity  #Distinct_items    ASP\n",
              "0       12347        2          4   2486.57      1341               66   1.85\n",
              "1       12348       75          1    310.00       217                3   1.43\n",
              "2       12349       18          1   1757.55       631               73   2.79\n",
              "3       12352       36          3    944.23       282               39   3.35\n",
              "4       12356       22          1     58.35         5                2  11.67"
            ]
          },
          "metadata": {
            "tags": []
          },
          "execution_count": 114
        }
      ]
    },
    {
      "cell_type": "code",
      "metadata": {
        "id": "8yO01nEf7E5v",
        "colab_type": "code",
        "outputId": "34c282bd-d803-48af-f2d1-7fa7764e508d",
        "colab": {
          "base_uri": "https://localhost:8080/",
          "height": 203
        }
      },
      "source": [
        "date_t_6mon_1 = raw_data_6mon_1.groupby('CustomerID')['InvoiceDate'].max().to_frame()\n",
        "date_t_6mon_1.reset_index(inplace = True)\n",
        "freq_6mon_1 = raw_data_6mon_1.groupby('CustomerID')['InvoiceNo'].nunique().to_frame()\n",
        "freq_6mon_1.reset_index(inplace = True)\n",
        "monet_6mon_1 = raw_data_6mon_1.groupby('CustomerID')['TotalAmount'].sum().to_frame()\n",
        "monet_6mon_1.reset_index(inplace = True)\n",
        "distinct_items_6mon_1 = raw_data_6mon_1.groupby('CustomerID')['StockCode'].nunique().to_frame()\n",
        "distinct_items_6mon_1.reset_index(inplace = True)\n",
        "quantity_6mon_1 = raw_data_6mon_1.groupby('CustomerID')['Quantity'].sum().to_frame()\n",
        "quantity_6mon_1.reset_index(inplace = True)\n",
        "\n",
        "rfm_data_6mon_1 = date_t_6mon_1.merge(freq_6mon_1, how = 'inner', on = 'CustomerID')\n",
        "rfm_data_6mon_1 = rfm_data_6mon_1.merge(monet_6mon_1, how = 'inner', on = 'CustomerID')\n",
        "rfm_data_6mon_1 = rfm_data_6mon_1.merge(quantity_6mon_1, how = 'inner', on = 'CustomerID')\n",
        "rfm_data_6mon_1 = rfm_data_6mon_1.merge(distinct_items_6mon_1, how = 'inner', on = 'CustomerID')\n",
        "rfm_data_6mon_1.columns = ['CustomerID','Recency','Frequency','Monetory','Quantity','#Distinct_items']\n",
        "rfm_data_6mon_1['Recency'] = (raw_data_6mon_1['InvoiceDate'].max() - rfm_data_6mon_1['Recency']).astype('timedelta64[D]').astype(int)\n",
        "rfm_data_6mon_1['ASP'] = round(rfm_data_6mon_2['Monetory']/rfm_data_6mon_2['Quantity'],2)\n",
        "rfm_data_6mon_1.head()"
      ],
      "execution_count": 0,
      "outputs": [
        {
          "output_type": "execute_result",
          "data": {
            "text/html": [
              "<div>\n",
              "<style scoped>\n",
              "    .dataframe tbody tr th:only-of-type {\n",
              "        vertical-align: middle;\n",
              "    }\n",
              "\n",
              "    .dataframe tbody tr th {\n",
              "        vertical-align: top;\n",
              "    }\n",
              "\n",
              "    .dataframe thead th {\n",
              "        text-align: right;\n",
              "    }\n",
              "</style>\n",
              "<table border=\"1\" class=\"dataframe\">\n",
              "  <thead>\n",
              "    <tr style=\"text-align: right;\">\n",
              "      <th></th>\n",
              "      <th>CustomerID</th>\n",
              "      <th>Recency</th>\n",
              "      <th>Frequency</th>\n",
              "      <th>Monetory</th>\n",
              "      <th>Quantity</th>\n",
              "      <th>#Distinct_items</th>\n",
              "      <th>ASP</th>\n",
              "    </tr>\n",
              "  </thead>\n",
              "  <tbody>\n",
              "    <tr>\n",
              "      <th>0</th>\n",
              "      <td>12346</td>\n",
              "      <td>133</td>\n",
              "      <td>2</td>\n",
              "      <td>0.00</td>\n",
              "      <td>0</td>\n",
              "      <td>1</td>\n",
              "      <td>1.85</td>\n",
              "    </tr>\n",
              "    <tr>\n",
              "      <th>1</th>\n",
              "      <td>12347</td>\n",
              "      <td>54</td>\n",
              "      <td>3</td>\n",
              "      <td>1823.43</td>\n",
              "      <td>1117</td>\n",
              "      <td>63</td>\n",
              "      <td>1.43</td>\n",
              "    </tr>\n",
              "    <tr>\n",
              "      <th>2</th>\n",
              "      <td>12348</td>\n",
              "      <td>56</td>\n",
              "      <td>3</td>\n",
              "      <td>1487.24</td>\n",
              "      <td>2124</td>\n",
              "      <td>22</td>\n",
              "      <td>2.79</td>\n",
              "    </tr>\n",
              "    <tr>\n",
              "      <th>3</th>\n",
              "      <td>12350</td>\n",
              "      <td>118</td>\n",
              "      <td>1</td>\n",
              "      <td>334.40</td>\n",
              "      <td>197</td>\n",
              "      <td>17</td>\n",
              "      <td>3.35</td>\n",
              "    </tr>\n",
              "    <tr>\n",
              "      <th>4</th>\n",
              "      <td>12352</td>\n",
              "      <td>70</td>\n",
              "      <td>8</td>\n",
              "      <td>601.18</td>\n",
              "      <td>188</td>\n",
              "      <td>26</td>\n",
              "      <td>11.67</td>\n",
              "    </tr>\n",
              "  </tbody>\n",
              "</table>\n",
              "</div>"
            ],
            "text/plain": [
              "   CustomerID  Recency  Frequency  Monetory  Quantity  #Distinct_items    ASP\n",
              "0       12346      133          2      0.00         0                1   1.85\n",
              "1       12347       54          3   1823.43      1117               63   1.43\n",
              "2       12348       56          3   1487.24      2124               22   2.79\n",
              "3       12350      118          1    334.40       197               17   3.35\n",
              "4       12352       70          8    601.18       188               26  11.67"
            ]
          },
          "metadata": {
            "tags": []
          },
          "execution_count": 115
        }
      ]
    },
    {
      "cell_type": "code",
      "metadata": {
        "id": "Ifwq9oK7KDoi",
        "colab_type": "code",
        "outputId": "79a3116f-c770-4ac5-d775-506cc66bd9e9",
        "colab": {
          "base_uri": "https://localhost:8080/",
          "height": 203
        }
      },
      "source": [
        "date_t = raw_data.groupby('CustomerID')['InvoiceDate'].max().to_frame()\n",
        "date_t.reset_index(inplace = True)\n",
        "freq = raw_data.groupby('CustomerID')['InvoiceNo'].nunique().to_frame()\n",
        "freq.reset_index(inplace = True)\n",
        "monet = raw_data.groupby('CustomerID')['TotalAmount'].sum().to_frame()\n",
        "monet.reset_index(inplace = True)\n",
        "distinct_items = raw_data.groupby('CustomerID')['StockCode'].nunique().to_frame()\n",
        "distinct_items.reset_index(inplace = True)\n",
        "quantity = raw_data.groupby('CustomerID')['Quantity'].sum().to_frame()\n",
        "quantity.reset_index(inplace = True)\n",
        "\n",
        "rfm_data = date_t.merge(freq, how = 'inner', on = 'CustomerID')\n",
        "rfm_data = rfm_data.merge(monet, how = 'inner', on = 'CustomerID')\n",
        "rfm_data = rfm_data.merge(quantity, how = 'inner', on = 'CustomerID')\n",
        "rfm_data = rfm_data.merge(distinct_items, how = 'inner', on = 'CustomerID')\n",
        "rfm_data.columns = ['CustomerID','Recency','Frequency','Monetory','Quantity','#Distinct_items']\n",
        "rfm_data['Recency'] = (raw_data['InvoiceDate'].max() - rfm_data['Recency']).astype('timedelta64[D]').astype(int)\n",
        "rfm_data['ASP'] = round(rfm_data_6mon_2['Monetory']/rfm_data_6mon_2['Quantity'],2)\n",
        "rfm_data.head()"
      ],
      "execution_count": 0,
      "outputs": [
        {
          "output_type": "execute_result",
          "data": {
            "text/html": [
              "<div>\n",
              "<style scoped>\n",
              "    .dataframe tbody tr th:only-of-type {\n",
              "        vertical-align: middle;\n",
              "    }\n",
              "\n",
              "    .dataframe tbody tr th {\n",
              "        vertical-align: top;\n",
              "    }\n",
              "\n",
              "    .dataframe thead th {\n",
              "        text-align: right;\n",
              "    }\n",
              "</style>\n",
              "<table border=\"1\" class=\"dataframe\">\n",
              "  <thead>\n",
              "    <tr style=\"text-align: right;\">\n",
              "      <th></th>\n",
              "      <th>CustomerID</th>\n",
              "      <th>Recency</th>\n",
              "      <th>Frequency</th>\n",
              "      <th>Monetory</th>\n",
              "      <th>Quantity</th>\n",
              "      <th>#Distinct_items</th>\n",
              "      <th>ASP</th>\n",
              "    </tr>\n",
              "  </thead>\n",
              "  <tbody>\n",
              "    <tr>\n",
              "      <th>0</th>\n",
              "      <td>12346</td>\n",
              "      <td>325</td>\n",
              "      <td>2</td>\n",
              "      <td>0.00</td>\n",
              "      <td>0</td>\n",
              "      <td>1</td>\n",
              "      <td>1.85</td>\n",
              "    </tr>\n",
              "    <tr>\n",
              "      <th>1</th>\n",
              "      <td>12347</td>\n",
              "      <td>2</td>\n",
              "      <td>7</td>\n",
              "      <td>4310.00</td>\n",
              "      <td>2458</td>\n",
              "      <td>103</td>\n",
              "      <td>1.43</td>\n",
              "    </tr>\n",
              "    <tr>\n",
              "      <th>2</th>\n",
              "      <td>12348</td>\n",
              "      <td>75</td>\n",
              "      <td>4</td>\n",
              "      <td>1797.24</td>\n",
              "      <td>2341</td>\n",
              "      <td>22</td>\n",
              "      <td>2.79</td>\n",
              "    </tr>\n",
              "    <tr>\n",
              "      <th>3</th>\n",
              "      <td>12349</td>\n",
              "      <td>18</td>\n",
              "      <td>1</td>\n",
              "      <td>1757.55</td>\n",
              "      <td>631</td>\n",
              "      <td>73</td>\n",
              "      <td>3.35</td>\n",
              "    </tr>\n",
              "    <tr>\n",
              "      <th>4</th>\n",
              "      <td>12350</td>\n",
              "      <td>310</td>\n",
              "      <td>1</td>\n",
              "      <td>334.40</td>\n",
              "      <td>197</td>\n",
              "      <td>17</td>\n",
              "      <td>11.67</td>\n",
              "    </tr>\n",
              "  </tbody>\n",
              "</table>\n",
              "</div>"
            ],
            "text/plain": [
              "   CustomerID  Recency  Frequency  Monetory  Quantity  #Distinct_items    ASP\n",
              "0       12346      325          2      0.00         0                1   1.85\n",
              "1       12347        2          7   4310.00      2458              103   1.43\n",
              "2       12348       75          4   1797.24      2341               22   2.79\n",
              "3       12349       18          1   1757.55       631               73   3.35\n",
              "4       12350      310          1    334.40       197               17  11.67"
            ]
          },
          "metadata": {
            "tags": []
          },
          "execution_count": 116
        }
      ]
    },
    {
      "cell_type": "code",
      "metadata": {
        "id": "ehfTbPhCSK1w",
        "colab_type": "code",
        "outputId": "d83eea5a-ad7e-4bc3-8c83-43d90a5ecfb6",
        "colab": {
          "base_uri": "https://localhost:8080/",
          "height": 296
        }
      },
      "source": [
        "rfm_data.describe()"
      ],
      "execution_count": 0,
      "outputs": [
        {
          "output_type": "execute_result",
          "data": {
            "text/html": [
              "<div>\n",
              "<style scoped>\n",
              "    .dataframe tbody tr th:only-of-type {\n",
              "        vertical-align: middle;\n",
              "    }\n",
              "\n",
              "    .dataframe tbody tr th {\n",
              "        vertical-align: top;\n",
              "    }\n",
              "\n",
              "    .dataframe thead th {\n",
              "        text-align: right;\n",
              "    }\n",
              "</style>\n",
              "<table border=\"1\" class=\"dataframe\">\n",
              "  <thead>\n",
              "    <tr style=\"text-align: right;\">\n",
              "      <th></th>\n",
              "      <th>CustomerID</th>\n",
              "      <th>Recency</th>\n",
              "      <th>Frequency</th>\n",
              "      <th>Monetory</th>\n",
              "      <th>Quantity</th>\n",
              "      <th>#Distinct_items</th>\n",
              "      <th>ASP</th>\n",
              "    </tr>\n",
              "  </thead>\n",
              "  <tbody>\n",
              "    <tr>\n",
              "      <th>count</th>\n",
              "      <td>4372.000000</td>\n",
              "      <td>4372.000000</td>\n",
              "      <td>4372.000000</td>\n",
              "      <td>4372.000000</td>\n",
              "      <td>4372.000000</td>\n",
              "      <td>4372.000000</td>\n",
              "      <td>3572.0000</td>\n",
              "    </tr>\n",
              "    <tr>\n",
              "      <th>mean</th>\n",
              "      <td>15299.677722</td>\n",
              "      <td>91.581199</td>\n",
              "      <td>5.075480</td>\n",
              "      <td>1898.459701</td>\n",
              "      <td>1122.344007</td>\n",
              "      <td>61.211116</td>\n",
              "      <td>NaN</td>\n",
              "    </tr>\n",
              "    <tr>\n",
              "      <th>std</th>\n",
              "      <td>1722.390705</td>\n",
              "      <td>100.772139</td>\n",
              "      <td>9.338754</td>\n",
              "      <td>8219.345141</td>\n",
              "      <td>4672.790720</td>\n",
              "      <td>85.425119</td>\n",
              "      <td>NaN</td>\n",
              "    </tr>\n",
              "    <tr>\n",
              "      <th>min</th>\n",
              "      <td>12346.000000</td>\n",
              "      <td>0.000000</td>\n",
              "      <td>1.000000</td>\n",
              "      <td>-4287.630000</td>\n",
              "      <td>-303.000000</td>\n",
              "      <td>1.000000</td>\n",
              "      <td>-inf</td>\n",
              "    </tr>\n",
              "    <tr>\n",
              "      <th>25%</th>\n",
              "      <td>13812.750000</td>\n",
              "      <td>16.000000</td>\n",
              "      <td>1.000000</td>\n",
              "      <td>293.362500</td>\n",
              "      <td>153.000000</td>\n",
              "      <td>15.000000</td>\n",
              "      <td>1.3400</td>\n",
              "    </tr>\n",
              "    <tr>\n",
              "      <th>50%</th>\n",
              "      <td>15300.500000</td>\n",
              "      <td>50.000000</td>\n",
              "      <td>3.000000</td>\n",
              "      <td>648.075000</td>\n",
              "      <td>365.000000</td>\n",
              "      <td>35.000000</td>\n",
              "      <td>1.7500</td>\n",
              "    </tr>\n",
              "    <tr>\n",
              "      <th>75%</th>\n",
              "      <td>16778.250000</td>\n",
              "      <td>143.000000</td>\n",
              "      <td>5.000000</td>\n",
              "      <td>1611.725000</td>\n",
              "      <td>962.250000</td>\n",
              "      <td>77.000000</td>\n",
              "      <td>2.2725</td>\n",
              "    </tr>\n",
              "    <tr>\n",
              "      <th>max</th>\n",
              "      <td>18287.000000</td>\n",
              "      <td>373.000000</td>\n",
              "      <td>248.000000</td>\n",
              "      <td>279489.020000</td>\n",
              "      <td>196719.000000</td>\n",
              "      <td>1794.000000</td>\n",
              "      <td>inf</td>\n",
              "    </tr>\n",
              "  </tbody>\n",
              "</table>\n",
              "</div>"
            ],
            "text/plain": [
              "         CustomerID      Recency  ...  #Distinct_items        ASP\n",
              "count   4372.000000  4372.000000  ...      4372.000000  3572.0000\n",
              "mean   15299.677722    91.581199  ...        61.211116        NaN\n",
              "std     1722.390705   100.772139  ...        85.425119        NaN\n",
              "min    12346.000000     0.000000  ...         1.000000       -inf\n",
              "25%    13812.750000    16.000000  ...        15.000000     1.3400\n",
              "50%    15300.500000    50.000000  ...        35.000000     1.7500\n",
              "75%    16778.250000   143.000000  ...        77.000000     2.2725\n",
              "max    18287.000000   373.000000  ...      1794.000000        inf\n",
              "\n",
              "[8 rows x 7 columns]"
            ]
          },
          "metadata": {
            "tags": []
          },
          "execution_count": 117
        }
      ]
    },
    {
      "cell_type": "code",
      "metadata": {
        "id": "cvjgJ9WrVpXP",
        "colab_type": "code",
        "outputId": "19bf2f14-7545-483a-99e3-6bf95d05a036",
        "colab": {
          "base_uri": "https://localhost:8080/",
          "height": 610
        }
      },
      "source": [
        "fig, (ax1, ax2, ax3) = subplots(nrows=1,ncols=3,figsize=(15, 10))\n",
        "\n",
        "# 1st plot\n",
        "rfm_data.boxplot('Recency',ax=ax1)\n",
        "\n",
        "# 2nd plot\n",
        "rfm_data.boxplot('Frequency',ax=ax2)\n",
        "\n",
        "# 3rd plot\n",
        "rfm_data.boxplot('Monetory',ax=ax3)"
      ],
      "execution_count": 0,
      "outputs": [
        {
          "output_type": "execute_result",
          "data": {
            "text/plain": [
              "<matplotlib.axes._subplots.AxesSubplot at 0x7fd2068591d0>"
            ]
          },
          "metadata": {
            "tags": []
          },
          "execution_count": 118
        },
        {
          "output_type": "display_data",
          "data": {
            "image/png": "[encoded data removed]",
            "text/plain": [
              "<Figure size 1080x720 with 3 Axes>"
            ]
          },
          "metadata": {
            "tags": []
          }
        }
      ]
    },
    {
      "cell_type": "code",
      "metadata": {
        "id": "cDSYDS6tpDxq",
        "colab_type": "code",
        "outputId": "25f3fb9c-d5c9-47cb-825b-fd7eec347b2c",
        "colab": {
          "base_uri": "https://localhost:8080/",
          "height": 35
        }
      },
      "source": [
        "rfm_data.shape, (rfm_data['Frequency']>50).sum(), (rfm_data['Monetory']>10000).sum()"
      ],
      "execution_count": 0,
      "outputs": [
        {
          "output_type": "execute_result",
          "data": {
            "text/plain": [
              "((4372, 7), 24, 97)"
            ]
          },
          "metadata": {
            "tags": []
          },
          "execution_count": 119
        }
      ]
    },
    {
      "cell_type": "code",
      "metadata": {
        "id": "LWdhbNmo02Df",
        "colab_type": "code",
        "colab": {}
      },
      "source": [
        ""
      ],
      "execution_count": 0,
      "outputs": []
    },
    {
      "cell_type": "code",
      "metadata": {
        "id": "cmsfWapLpqCz",
        "colab_type": "code",
        "outputId": "d10405fc-2d25-429a-bdcf-5f43354fc730",
        "colab": {
          "base_uri": "https://localhost:8080/",
          "height": 35
        }
      },
      "source": [
        "rfm_data = rfm_data[~(rfm_data['Frequency']>50)]\n",
        "rfm_data = rfm_data[~(rfm_data['Monetory']>10000)]\n",
        "rfm_data = rfm_data[~(rfm_data['Monetory']<0)]\n",
        "rfm_data.shape"
      ],
      "execution_count": 0,
      "outputs": [
        {
          "output_type": "execute_result",
          "data": {
            "text/plain": [
              "(4230, 7)"
            ]
          },
          "metadata": {
            "tags": []
          },
          "execution_count": 125
        }
      ]
    },
    {
      "cell_type": "code",
      "metadata": {
        "id": "BubkE819qiMU",
        "colab_type": "code",
        "outputId": "04fa3977-b7eb-4eb6-f2ce-2554dee484d0",
        "colab": {
          "base_uri": "https://localhost:8080/",
          "height": 610
        }
      },
      "source": [
        "fig, (ax1, ax2, ax3) = subplots(nrows=1,ncols=3,figsize=(15, 10))\n",
        "\n",
        "# 1st plot\n",
        "rfm_data.boxplot('Recency',ax=ax1)\n",
        "\n",
        "# 2nd plot\n",
        "rfm_data.boxplot('Frequency',ax=ax2)\n",
        "\n",
        "# 3rd plot\n",
        "rfm_data.boxplot('Monetory',ax=ax3)"
      ],
      "execution_count": 0,
      "outputs": [
        {
          "output_type": "execute_result",
          "data": {
            "text/plain": [
              "<matplotlib.axes._subplots.AxesSubplot at 0x7fd206312908>"
            ]
          },
          "metadata": {
            "tags": []
          },
          "execution_count": 126
        },
        {
          "output_type": "display_data",
          "data": {
            "image/png": "[encoded data removed]",
            "text/plain": [
              "<Figure size 1080x720 with 3 Axes>"
            ]
          },
          "metadata": {
            "tags": []
          }
        }
      ]
    },
    {
      "cell_type": "code",
      "metadata": {
        "id": "JoOxos4zWqdS",
        "colab_type": "code",
        "colab": {}
      },
      "source": [
        "# # Scale each feature to 0-1\n",
        "\n",
        "# from sklearn.preprocessing import MinMaxScaler\n",
        "\n",
        "# scaler = MinMaxScaler(feature_range = (0, 1))\n",
        "\n",
        "# features = list(rfm_data_copy.columns)\n",
        "# scaler.fit(rfm_data_copy.iloc[:,1:])\n",
        "# rfm_data_copy.iloc[:,1:] = pd.DataFrame(scaler.transform(rfm_data_copy.iloc[:,1:]))\n",
        "\n",
        "# rfm_data_copy.columns = features\n",
        "# rfm_data_copy.head()"
      ],
      "execution_count": 0,
      "outputs": []
    },
    {
      "cell_type": "code",
      "metadata": {
        "id": "cyDbKNkMWR7a",
        "colab_type": "code",
        "colab": {}
      },
      "source": [
        "# Elbow plot\n",
        "from sklearn.cluster import KMeans\n",
        "\n",
        "Sum_of_squared_distances = []\n",
        "K = range(1,15)\n",
        "for k in K:\n",
        "    km = KMeans(n_clusters=k)\n",
        "    km = km.fit(rfm_data['Frequency'].values.reshape(-1,1))\n",
        "    Sum_of_squared_distances.append(km.inertia_)"
      ],
      "execution_count": 0,
      "outputs": []
    },
    {
      "cell_type": "code",
      "metadata": {
        "id": "KtA8DN58PLHy",
        "colab_type": "code",
        "outputId": "ff5bdc9a-cb95-4aa2-e668-291e821380a0",
        "colab": {
          "base_uri": "https://localhost:8080/",
          "height": 295
        }
      },
      "source": [
        "plt.plot(K, Sum_of_squared_distances, 'bx-')\n",
        "plt.xlabel('k')\n",
        "plt.ylabel('Sum_of_squared_distances')\n",
        "plt.title('Elbow Method For Optimal k')\n",
        "plt.show()\n"
      ],
      "execution_count": 0,
      "outputs": [
        {
          "output_type": "display_data",
          "data": {
            "image/png": "[encoded data removed]",
            "text/plain": [
              "<Figure size 432x288 with 1 Axes>"
            ]
          },
          "metadata": {
            "tags": []
          }
        }
      ]
    },
    {
      "cell_type": "code",
      "metadata": {
        "id": "FVEqfxdUPc24",
        "colab_type": "code",
        "colab": {}
      },
      "source": [
        "# 4 clusters look optimal for all the 3 columns R, F & M"
      ],
      "execution_count": 0,
      "outputs": []
    },
    {
      "cell_type": "code",
      "metadata": {
        "id": "PfVRLPkpPiOz",
        "colab_type": "code",
        "colab": {}
      },
      "source": [
        "# Let's cluster them all\n",
        "\n",
        "kmeans_recency = KMeans(n_clusters=4, random_state=0).fit(rfm_data['Recency'].values.reshape(-1,1))\n",
        "kmeans_freq = KMeans(n_clusters=4, random_state=0).fit(rfm_data['Frequency'].values.reshape(-1,1))\n",
        "kmeans_monet = KMeans(n_clusters=4, random_state=0).fit(rfm_data['Monetory'].values.reshape(-1,1))"
      ],
      "execution_count": 0,
      "outputs": []
    },
    {
      "cell_type": "code",
      "metadata": {
        "id": "T2rv1VtoRqU-",
        "colab_type": "code",
        "outputId": "5c7674af-5cb2-4913-bcee-f78617e61a1a",
        "colab": {
          "base_uri": "https://localhost:8080/",
          "height": 203
        }
      },
      "source": [
        "rfm_data['RecencyScore'] = kmeans_recency.predict(rfm_data['Recency'].values.reshape(-1,1))\n",
        "rfm_data['FrequencyScore'] = kmeans_freq.predict(rfm_data['Frequency'].values.reshape(-1,1))\n",
        "rfm_data['MonetoryScore'] = kmeans_monet.predict(rfm_data['Monetory'].values.reshape(-1,1))\n",
        "rfm_data.head()"
      ],
      "execution_count": 0,
      "outputs": [
        {
          "output_type": "execute_result",
          "data": {
            "text/html": [
              "<div>\n",
              "<style scoped>\n",
              "    .dataframe tbody tr th:only-of-type {\n",
              "        vertical-align: middle;\n",
              "    }\n",
              "\n",
              "    .dataframe tbody tr th {\n",
              "        vertical-align: top;\n",
              "    }\n",
              "\n",
              "    .dataframe thead th {\n",
              "        text-align: right;\n",
              "    }\n",
              "</style>\n",
              "<table border=\"1\" class=\"dataframe\">\n",
              "  <thead>\n",
              "    <tr style=\"text-align: right;\">\n",
              "      <th></th>\n",
              "      <th>CustomerID</th>\n",
              "      <th>Recency</th>\n",
              "      <th>Frequency</th>\n",
              "      <th>Monetory</th>\n",
              "      <th>Quantity</th>\n",
              "      <th>#Distinct_items</th>\n",
              "      <th>ASP</th>\n",
              "      <th>RecencyScore</th>\n",
              "      <th>FrequencyScore</th>\n",
              "      <th>MonetoryScore</th>\n",
              "    </tr>\n",
              "  </thead>\n",
              "  <tbody>\n",
              "    <tr>\n",
              "      <th>0</th>\n",
              "      <td>12346</td>\n",
              "      <td>325</td>\n",
              "      <td>2</td>\n",
              "      <td>0.00</td>\n",
              "      <td>0</td>\n",
              "      <td>1</td>\n",
              "      <td>1.85</td>\n",
              "      <td>1</td>\n",
              "      <td>2</td>\n",
              "      <td>1</td>\n",
              "    </tr>\n",
              "    <tr>\n",
              "      <th>1</th>\n",
              "      <td>12347</td>\n",
              "      <td>2</td>\n",
              "      <td>7</td>\n",
              "      <td>4310.00</td>\n",
              "      <td>2458</td>\n",
              "      <td>103</td>\n",
              "      <td>1.43</td>\n",
              "      <td>3</td>\n",
              "      <td>0</td>\n",
              "      <td>3</td>\n",
              "    </tr>\n",
              "    <tr>\n",
              "      <th>2</th>\n",
              "      <td>12348</td>\n",
              "      <td>75</td>\n",
              "      <td>4</td>\n",
              "      <td>1797.24</td>\n",
              "      <td>2341</td>\n",
              "      <td>22</td>\n",
              "      <td>2.79</td>\n",
              "      <td>0</td>\n",
              "      <td>0</td>\n",
              "      <td>0</td>\n",
              "    </tr>\n",
              "    <tr>\n",
              "      <th>3</th>\n",
              "      <td>12349</td>\n",
              "      <td>18</td>\n",
              "      <td>1</td>\n",
              "      <td>1757.55</td>\n",
              "      <td>631</td>\n",
              "      <td>73</td>\n",
              "      <td>3.35</td>\n",
              "      <td>3</td>\n",
              "      <td>2</td>\n",
              "      <td>0</td>\n",
              "    </tr>\n",
              "    <tr>\n",
              "      <th>4</th>\n",
              "      <td>12350</td>\n",
              "      <td>310</td>\n",
              "      <td>1</td>\n",
              "      <td>334.40</td>\n",
              "      <td>197</td>\n",
              "      <td>17</td>\n",
              "      <td>11.67</td>\n",
              "      <td>1</td>\n",
              "      <td>2</td>\n",
              "      <td>1</td>\n",
              "    </tr>\n",
              "  </tbody>\n",
              "</table>\n",
              "</div>"
            ],
            "text/plain": [
              "   CustomerID  Recency  Frequency  ...  RecencyScore  FrequencyScore  MonetoryScore\n",
              "0       12346      325          2  ...             1               2              1\n",
              "1       12347        2          7  ...             3               0              3\n",
              "2       12348       75          4  ...             0               0              0\n",
              "3       12349       18          1  ...             3               2              0\n",
              "4       12350      310          1  ...             1               2              1\n",
              "\n",
              "[5 rows x 10 columns]"
            ]
          },
          "metadata": {
            "tags": []
          },
          "execution_count": 138
        }
      ]
    },
    {
      "cell_type": "code",
      "metadata": {
        "id": "eODZU1hZM_de",
        "colab_type": "code",
        "outputId": "c2959801-3e3d-44ee-cf0e-bf67ccf8f770",
        "colab": {
          "base_uri": "https://localhost:8080/",
          "height": 243
        }
      },
      "source": [
        "fig, (ax1, ax2, ax3) = subplots(nrows=1,ncols=3,figsize=(20, 3))\n",
        "\n",
        "# 1st plot\n",
        "rfm_data.plot('RecencyScore','Recency',kind='scatter',ax=ax1)\n",
        "\n",
        "# 2nd plot\n",
        "rfm_data.plot('FrequencyScore','Frequency',kind='scatter',ax=ax2)\n",
        "\n",
        "# 3rd plot\n",
        "rfm_data.plot('MonetoryScore','Monetory',kind='scatter',ax=ax3)\n",
        "ax3.set_xlabel('MonetoryScore')\n",
        "ax3.set_ylabel('Monetory')\n"
      ],
      "execution_count": 0,
      "outputs": [
        {
          "output_type": "execute_result",
          "data": {
            "text/plain": [
              "Text(0, 0.5, 'Monetory')"
            ]
          },
          "metadata": {
            "tags": []
          },
          "execution_count": 139
        },
        {
          "output_type": "display_data",
          "data": {
            "image/png": "[encoded data removed]",
            "text/plain": [
              "<Figure size 1440x216 with 3 Axes>"
            ]
          },
          "metadata": {
            "tags": []
          }
        }
      ]
    },
    {
      "cell_type": "code",
      "metadata": {
        "id": "ZctsXIAskMSu",
        "colab_type": "code",
        "outputId": "307d0227-2595-4752-df01-75a7797b5a2f",
        "colab": {
          "base_uri": "https://localhost:8080/",
          "height": 107
        }
      },
      "source": [
        "rfm_data['RecencyScore'].value_counts()"
      ],
      "execution_count": 0,
      "outputs": [
        {
          "output_type": "execute_result",
          "data": {
            "text/plain": [
              "3    2060\n",
              "0    1052\n",
              "2     608\n",
              "1     510\n",
              "Name: RecencyScore, dtype: int64"
            ]
          },
          "metadata": {
            "tags": []
          },
          "execution_count": 141
        }
      ]
    },
    {
      "cell_type": "code",
      "metadata": {
        "id": "hx1LO69XkNRg",
        "colab_type": "code",
        "outputId": "b7ae7502-c4d3-4ed6-8fcd-a56693e7ce2a",
        "colab": {
          "base_uri": "https://localhost:8080/",
          "height": 107
        }
      },
      "source": [
        "rfm_data['FrequencyScore'].value_counts()"
      ],
      "execution_count": 0,
      "outputs": [
        {
          "output_type": "execute_result",
          "data": {
            "text/plain": [
              "2    2578\n",
              "0    1205\n",
              "1     375\n",
              "3      72\n",
              "Name: FrequencyScore, dtype: int64"
            ]
          },
          "metadata": {
            "tags": []
          },
          "execution_count": 142
        }
      ]
    },
    {
      "cell_type": "code",
      "metadata": {
        "id": "8SBzL8AdkN_D",
        "colab_type": "code",
        "outputId": "b368ec22-2c91-4401-a157-d80a1b050d56",
        "colab": {
          "base_uri": "https://localhost:8080/",
          "height": 107
        }
      },
      "source": [
        "rfm_data['MonetoryScore'].value_counts()"
      ],
      "execution_count": 0,
      "outputs": [
        {
          "output_type": "execute_result",
          "data": {
            "text/plain": [
              "1    2797\n",
              "0     920\n",
              "3     375\n",
              "2     138\n",
              "Name: MonetoryScore, dtype: int64"
            ]
          },
          "metadata": {
            "tags": []
          },
          "execution_count": 143
        }
      ]
    },
    {
      "cell_type": "code",
      "metadata": {
        "id": "0GoLA_W0vEsn",
        "colab_type": "code",
        "outputId": "e007e9b6-0f0b-4a9c-b910-bf2c87f29bf8",
        "colab": {
          "base_uri": "https://localhost:8080/",
          "height": 89
        }
      },
      "source": [
        "kmeans_monet.cluster_centers_"
      ],
      "execution_count": 0,
      "outputs": [
        {
          "output_type": "execute_result",
          "data": {
            "text/plain": [
              "array([[1721.94931298],\n",
              "       [ 434.9225216 ],\n",
              "       [6967.96471014],\n",
              "       [3700.23326471]])"
            ]
          },
          "metadata": {
            "tags": []
          },
          "execution_count": 144
        }
      ]
    },
    {
      "cell_type": "markdown",
      "metadata": {
        "id": "C-80L6L9SafG",
        "colab_type": "text"
      },
      "source": [
        "Frequency and Monetory have a few outliers which are clubbed together in 1st cluster for both. For now lets assign them to the next nearest cluster.\n",
        "\n",
        "Also the ordering is less inutuitive, lets make them a bit structured"
      ]
    },
    {
      "cell_type": "code",
      "metadata": {
        "id": "O1EEQ07tT04v",
        "colab_type": "code",
        "colab": {}
      },
      "source": [
        "# best recency for now is 3>0>2>1, we want 1-4 orders\n",
        "rfm_data['RecencyScore'] = rfm_data['RecencyScore']+10\n",
        "rfm_data.loc[(rfm_data['RecencyScore'] == 13),'RecencyScore'] = 1\n",
        "rfm_data.loc[(rfm_data['RecencyScore'] == 10),'RecencyScore'] = 2\n",
        "rfm_data.loc[(rfm_data['RecencyScore'] == 12),'RecencyScore'] = 3\n",
        "rfm_data.loc[(rfm_data['RecencyScore'] == 11),'RecencyScore'] = 4\n",
        "\n",
        "# best frequency for now is 3>1>0>2, we want 1-3 orders\n",
        "rfm_data['FrequencyScore'] = rfm_data['FrequencyScore']+10\n",
        "rfm_data.loc[(rfm_data['FrequencyScore'] == 13),'FrequencyScore'] = 1\n",
        "rfm_data.loc[(rfm_data['FrequencyScore'] == 11),'FrequencyScore'] = 1\n",
        "rfm_data.loc[(rfm_data['FrequencyScore'] == 10),'FrequencyScore'] = 2\n",
        "rfm_data.loc[(rfm_data['FrequencyScore'] == 12),'FrequencyScore'] = 3\n",
        "\n",
        "# best recency for now is 2>3>0>1, we want 1-3 orders\n",
        "rfm_data['MonetoryScore'] = rfm_data['MonetoryScore']+10\n",
        "rfm_data.loc[(rfm_data['MonetoryScore'] == 12),'MonetoryScore'] = 1\n",
        "rfm_data.loc[(rfm_data['MonetoryScore'] == 13),'MonetoryScore'] = 1\n",
        "rfm_data.loc[(rfm_data['MonetoryScore'] == 10),'MonetoryScore'] = 2\n",
        "rfm_data.loc[(rfm_data['MonetoryScore'] == 11),'MonetoryScore'] = 3"
      ],
      "execution_count": 0,
      "outputs": []
    },
    {
      "cell_type": "code",
      "metadata": {
        "id": "7vZUpMC7Ttr9",
        "colab_type": "code",
        "outputId": "0e6e6f35-d479-40a5-95e5-ce4852de938c",
        "colab": {
          "base_uri": "https://localhost:8080/",
          "height": 243
        }
      },
      "source": [
        "fig, (ax1, ax2, ax3) = subplots(nrows=1,ncols=3,figsize=(20, 3))\n",
        "\n",
        "# 1st plot\n",
        "rfm_data.plot('RecencyScore','Recency',kind='scatter',ax=ax1)\n",
        "\n",
        "# 2nd plot\n",
        "rfm_data.plot('FrequencyScore','Frequency',kind='scatter',ax=ax2)\n",
        "\n",
        "# 3rd plot\n",
        "rfm_data.plot('MonetoryScore','Monetory',kind='scatter',ax=ax3)\n",
        "ax3.set_xlabel('MonetoryScore')\n",
        "ax3.set_ylabel('Monetory')\n"
      ],
      "execution_count": 0,
      "outputs": [
        {
          "output_type": "execute_result",
          "data": {
            "text/plain": [
              "Text(0, 0.5, 'Monetory')"
            ]
          },
          "metadata": {
            "tags": []
          },
          "execution_count": 146
        },
        {
          "output_type": "display_data",
          "data": {
            "image/png": "[encoded data removed]",
            "text/plain": [
              "<Figure size 1440x216 with 3 Axes>"
            ]
          },
          "metadata": {
            "tags": []
          }
        }
      ]
    },
    {
      "cell_type": "code",
      "metadata": {
        "id": "VMfgyF1wTVI7",
        "colab_type": "code",
        "outputId": "ba5991a5-32e2-4659-edc8-6f2b3dc496a0",
        "colab": {
          "base_uri": "https://localhost:8080/",
          "height": 203
        }
      },
      "source": [
        "col_list= list(rfm_data.iloc[:,4:7])\n",
        "rfm_data['RFM_Score'] = rfm_data[col_list].sum(axis=1)\n",
        "rfm_data['RFM_Segment'] = rfm_data['RecencyScore']*100 + rfm_data['FrequencyScore']*10 + rfm_data['MonetoryScore']\n",
        "rfm_data.head()"
      ],
      "execution_count": 0,
      "outputs": [
        {
          "output_type": "execute_result",
          "data": {
            "text/html": [
              "<div>\n",
              "<style scoped>\n",
              "    .dataframe tbody tr th:only-of-type {\n",
              "        vertical-align: middle;\n",
              "    }\n",
              "\n",
              "    .dataframe tbody tr th {\n",
              "        vertical-align: top;\n",
              "    }\n",
              "\n",
              "    .dataframe thead th {\n",
              "        text-align: right;\n",
              "    }\n",
              "</style>\n",
              "<table border=\"1\" class=\"dataframe\">\n",
              "  <thead>\n",
              "    <tr style=\"text-align: right;\">\n",
              "      <th></th>\n",
              "      <th>CustomerID</th>\n",
              "      <th>Recency</th>\n",
              "      <th>Frequency</th>\n",
              "      <th>Monetory</th>\n",
              "      <th>Quantity</th>\n",
              "      <th>#Distinct_items</th>\n",
              "      <th>ASP</th>\n",
              "      <th>RecencyScore</th>\n",
              "      <th>FrequencyScore</th>\n",
              "      <th>MonetoryScore</th>\n",
              "      <th>RFM_Score</th>\n",
              "      <th>RFM_Segment</th>\n",
              "    </tr>\n",
              "  </thead>\n",
              "  <tbody>\n",
              "    <tr>\n",
              "      <th>0</th>\n",
              "      <td>12346</td>\n",
              "      <td>325</td>\n",
              "      <td>2</td>\n",
              "      <td>0.00</td>\n",
              "      <td>0</td>\n",
              "      <td>1</td>\n",
              "      <td>1.85</td>\n",
              "      <td>4</td>\n",
              "      <td>3</td>\n",
              "      <td>3</td>\n",
              "      <td>2.85</td>\n",
              "      <td>433</td>\n",
              "    </tr>\n",
              "    <tr>\n",
              "      <th>1</th>\n",
              "      <td>12347</td>\n",
              "      <td>2</td>\n",
              "      <td>7</td>\n",
              "      <td>4310.00</td>\n",
              "      <td>2458</td>\n",
              "      <td>103</td>\n",
              "      <td>1.43</td>\n",
              "      <td>1</td>\n",
              "      <td>2</td>\n",
              "      <td>1</td>\n",
              "      <td>2562.43</td>\n",
              "      <td>121</td>\n",
              "    </tr>\n",
              "    <tr>\n",
              "      <th>2</th>\n",
              "      <td>12348</td>\n",
              "      <td>75</td>\n",
              "      <td>4</td>\n",
              "      <td>1797.24</td>\n",
              "      <td>2341</td>\n",
              "      <td>22</td>\n",
              "      <td>2.79</td>\n",
              "      <td>2</td>\n",
              "      <td>2</td>\n",
              "      <td>2</td>\n",
              "      <td>2365.79</td>\n",
              "      <td>222</td>\n",
              "    </tr>\n",
              "    <tr>\n",
              "      <th>3</th>\n",
              "      <td>12349</td>\n",
              "      <td>18</td>\n",
              "      <td>1</td>\n",
              "      <td>1757.55</td>\n",
              "      <td>631</td>\n",
              "      <td>73</td>\n",
              "      <td>3.35</td>\n",
              "      <td>1</td>\n",
              "      <td>3</td>\n",
              "      <td>2</td>\n",
              "      <td>707.35</td>\n",
              "      <td>132</td>\n",
              "    </tr>\n",
              "    <tr>\n",
              "      <th>4</th>\n",
              "      <td>12350</td>\n",
              "      <td>310</td>\n",
              "      <td>1</td>\n",
              "      <td>334.40</td>\n",
              "      <td>197</td>\n",
              "      <td>17</td>\n",
              "      <td>11.67</td>\n",
              "      <td>4</td>\n",
              "      <td>3</td>\n",
              "      <td>3</td>\n",
              "      <td>225.67</td>\n",
              "      <td>433</td>\n",
              "    </tr>\n",
              "  </tbody>\n",
              "</table>\n",
              "</div>"
            ],
            "text/plain": [
              "   CustomerID  Recency  Frequency  ...  MonetoryScore  RFM_Score  RFM_Segment\n",
              "0       12346      325          2  ...              3       2.85          433\n",
              "1       12347        2          7  ...              1    2562.43          121\n",
              "2       12348       75          4  ...              2    2365.79          222\n",
              "3       12349       18          1  ...              2     707.35          132\n",
              "4       12350      310          1  ...              3     225.67          433\n",
              "\n",
              "[5 rows x 12 columns]"
            ]
          },
          "metadata": {
            "tags": []
          },
          "execution_count": 147
        }
      ]
    },
    {
      "cell_type": "code",
      "metadata": {
        "id": "z6fiSXsNJsng",
        "colab_type": "code",
        "outputId": "ce924691-a896-4b24-eb3d-5584d312c959",
        "colab": {
          "base_uri": "https://localhost:8080/",
          "height": 203
        }
      },
      "source": [
        "rfm_data_6mon_1 = rfm_data_6mon_1[~(rfm_data_6mon_1['Frequency']>50)]\n",
        "rfm_data_6mon_1 = rfm_data_6mon_1[~(rfm_data_6mon_1['Monetory']>10000)]\n",
        "rfm_data_6mon_1 = rfm_data_6mon_1[~(rfm_data_6mon_1['Monetory']<0)]\n",
        "rfm_data_6mon_1.shape\n",
        "\n",
        "# Let's cluster them all\n",
        "\n",
        "kmeans_recency = KMeans(n_clusters=4, random_state=0).fit(rfm_data_6mon_1['Recency'].values.reshape(-1,1))\n",
        "kmeans_freq = KMeans(n_clusters=4, random_state=0).fit(rfm_data_6mon_1['Frequency'].values.reshape(-1,1))\n",
        "kmeans_monet = KMeans(n_clusters=4, random_state=0).fit(rfm_data_6mon_1['Monetory'].values.reshape(-1,1))\n",
        "\n",
        "rfm_data_6mon_1['RecencyScore'] = kmeans_recency.predict(rfm_data_6mon_1['Recency'].values.reshape(-1,1))\n",
        "rfm_data_6mon_1['FrequencyScore'] = kmeans_freq.predict(rfm_data_6mon_1['Frequency'].values.reshape(-1,1))\n",
        "rfm_data_6mon_1['MonetoryScore'] = kmeans_monet.predict(rfm_data_6mon_1['Monetory'].values.reshape(-1,1))\n",
        "rfm_data_6mon_1.head()"
      ],
      "execution_count": 0,
      "outputs": [
        {
          "output_type": "execute_result",
          "data": {
            "text/html": [
              "<div>\n",
              "<style scoped>\n",
              "    .dataframe tbody tr th:only-of-type {\n",
              "        vertical-align: middle;\n",
              "    }\n",
              "\n",
              "    .dataframe tbody tr th {\n",
              "        vertical-align: top;\n",
              "    }\n",
              "\n",
              "    .dataframe thead th {\n",
              "        text-align: right;\n",
              "    }\n",
              "</style>\n",
              "<table border=\"1\" class=\"dataframe\">\n",
              "  <thead>\n",
              "    <tr style=\"text-align: right;\">\n",
              "      <th></th>\n",
              "      <th>CustomerID</th>\n",
              "      <th>Recency</th>\n",
              "      <th>Frequency</th>\n",
              "      <th>Monetory</th>\n",
              "      <th>Quantity</th>\n",
              "      <th>#Distinct_items</th>\n",
              "      <th>ASP</th>\n",
              "      <th>RecencyScore</th>\n",
              "      <th>FrequencyScore</th>\n",
              "      <th>MonetoryScore</th>\n",
              "    </tr>\n",
              "  </thead>\n",
              "  <tbody>\n",
              "    <tr>\n",
              "      <th>0</th>\n",
              "      <td>12346</td>\n",
              "      <td>133</td>\n",
              "      <td>2</td>\n",
              "      <td>0.00</td>\n",
              "      <td>0</td>\n",
              "      <td>1</td>\n",
              "      <td>1.85</td>\n",
              "      <td>1</td>\n",
              "      <td>0</td>\n",
              "      <td>1</td>\n",
              "    </tr>\n",
              "    <tr>\n",
              "      <th>1</th>\n",
              "      <td>12347</td>\n",
              "      <td>54</td>\n",
              "      <td>3</td>\n",
              "      <td>1823.43</td>\n",
              "      <td>1117</td>\n",
              "      <td>63</td>\n",
              "      <td>1.43</td>\n",
              "      <td>2</td>\n",
              "      <td>0</td>\n",
              "      <td>0</td>\n",
              "    </tr>\n",
              "    <tr>\n",
              "      <th>2</th>\n",
              "      <td>12348</td>\n",
              "      <td>56</td>\n",
              "      <td>3</td>\n",
              "      <td>1487.24</td>\n",
              "      <td>2124</td>\n",
              "      <td>22</td>\n",
              "      <td>2.79</td>\n",
              "      <td>2</td>\n",
              "      <td>0</td>\n",
              "      <td>0</td>\n",
              "    </tr>\n",
              "    <tr>\n",
              "      <th>3</th>\n",
              "      <td>12350</td>\n",
              "      <td>118</td>\n",
              "      <td>1</td>\n",
              "      <td>334.40</td>\n",
              "      <td>197</td>\n",
              "      <td>17</td>\n",
              "      <td>3.35</td>\n",
              "      <td>1</td>\n",
              "      <td>0</td>\n",
              "      <td>1</td>\n",
              "    </tr>\n",
              "    <tr>\n",
              "      <th>4</th>\n",
              "      <td>12352</td>\n",
              "      <td>70</td>\n",
              "      <td>8</td>\n",
              "      <td>601.18</td>\n",
              "      <td>188</td>\n",
              "      <td>26</td>\n",
              "      <td>11.67</td>\n",
              "      <td>2</td>\n",
              "      <td>2</td>\n",
              "      <td>1</td>\n",
              "    </tr>\n",
              "  </tbody>\n",
              "</table>\n",
              "</div>"
            ],
            "text/plain": [
              "   CustomerID  Recency  Frequency  ...  RecencyScore  FrequencyScore  MonetoryScore\n",
              "0       12346      133          2  ...             1               0              1\n",
              "1       12347       54          3  ...             2               0              0\n",
              "2       12348       56          3  ...             2               0              0\n",
              "3       12350      118          1  ...             1               0              1\n",
              "4       12352       70          8  ...             2               2              1\n",
              "\n",
              "[5 rows x 10 columns]"
            ]
          },
          "metadata": {
            "tags": []
          },
          "execution_count": 150
        }
      ]
    },
    {
      "cell_type": "code",
      "metadata": {
        "id": "Ggf47QvtJskZ",
        "colab_type": "code",
        "outputId": "8b7457f1-d5e3-4256-f27f-8bf4a12c6c0a",
        "colab": {
          "base_uri": "https://localhost:8080/",
          "height": 243
        }
      },
      "source": [
        "fig, (ax1, ax2, ax3) = subplots(nrows=1,ncols=3,figsize=(20, 3))\n",
        "\n",
        "# 1st plot\n",
        "rfm_data_6mon_1.plot('RecencyScore','Recency',kind='scatter',ax=ax1)\n",
        "\n",
        "# 2nd plot\n",
        "rfm_data_6mon_1.plot('FrequencyScore','Frequency',kind='scatter',ax=ax2)\n",
        "\n",
        "# 3rd plot\n",
        "rfm_data_6mon_1.plot('MonetoryScore','Monetory',kind='scatter',ax=ax3)\n",
        "ax3.set_xlabel('MonetoryScore')\n",
        "ax3.set_ylabel('Monetory')"
      ],
      "execution_count": 0,
      "outputs": [
        {
          "output_type": "execute_result",
          "data": {
            "text/plain": [
              "Text(0, 0.5, 'Monetory')"
            ]
          },
          "metadata": {
            "tags": []
          },
          "execution_count": 151
        },
        {
          "output_type": "display_data",
          "data": {
            "image/png": "[encoded data removed]",
            "text/plain": [
              "<Figure size 1440x216 with 3 Axes>"
            ]
          },
          "metadata": {
            "tags": []
          }
        }
      ]
    },
    {
      "cell_type": "code",
      "metadata": {
        "id": "yvlnqbnlMziE",
        "colab_type": "code",
        "outputId": "2742cf27-a8dc-41b4-bd5c-77ae9f3954be",
        "colab": {
          "base_uri": "https://localhost:8080/",
          "height": 107
        }
      },
      "source": [
        "rfm_data_6mon_1['FrequencyScore'].value_counts()"
      ],
      "execution_count": 0,
      "outputs": [
        {
          "output_type": "execute_result",
          "data": {
            "text/plain": [
              "0    1997\n",
              "2     531\n",
              "1     135\n",
              "3      15\n",
              "Name: FrequencyScore, dtype: int64"
            ]
          },
          "metadata": {
            "tags": []
          },
          "execution_count": 153
        }
      ]
    },
    {
      "cell_type": "code",
      "metadata": {
        "id": "MgX1VU3HKocJ",
        "colab_type": "code",
        "colab": {}
      },
      "source": [
        "# best recency for now is 0>2>1>3, we want 1-4 orders\n",
        "rfm_data_6mon_1['RecencyScore'] = rfm_data_6mon_1['RecencyScore']+10\n",
        "rfm_data_6mon_1.loc[(rfm_data_6mon_1['RecencyScore'] == 10),'RecencyScore'] = 1\n",
        "rfm_data_6mon_1.loc[(rfm_data_6mon_1['RecencyScore'] == 12),'RecencyScore'] = 2\n",
        "rfm_data_6mon_1.loc[(rfm_data_6mon_1['RecencyScore'] == 11),'RecencyScore'] = 3\n",
        "rfm_data_6mon_1.loc[(rfm_data_6mon_1['RecencyScore'] == 13),'RecencyScore'] = 4\n",
        "\n",
        "# best frequency for now is 3>1>2>0, we want 1-3 orders\n",
        "rfm_data_6mon_1['FrequencyScore'] = rfm_data_6mon_1['FrequencyScore']+10\n",
        "rfm_data_6mon_1.loc[(rfm_data_6mon_1['FrequencyScore'] == 13),'FrequencyScore'] = 1\n",
        "rfm_data_6mon_1.loc[(rfm_data_6mon_1['FrequencyScore'] == 11),'FrequencyScore'] = 1\n",
        "rfm_data_6mon_1.loc[(rfm_data_6mon_1['FrequencyScore'] == 12),'FrequencyScore'] = 2\n",
        "rfm_data_6mon_1.loc[(rfm_data_6mon_1['FrequencyScore'] == 10),'FrequencyScore'] = 3\n",
        "\n",
        "# best recency for now is 2>3>1>0, we want 1-3 orders\n",
        "rfm_data_6mon_1['MonetoryScore'] = rfm_data_6mon_1['MonetoryScore']+10\n",
        "rfm_data_6mon_1.loc[(rfm_data_6mon_1['MonetoryScore'] == 12),'MonetoryScore'] = 1\n",
        "rfm_data_6mon_1.loc[(rfm_data_6mon_1['MonetoryScore'] == 13),'MonetoryScore'] = 1\n",
        "rfm_data_6mon_1.loc[(rfm_data_6mon_1['MonetoryScore'] == 10),'MonetoryScore'] = 2\n",
        "rfm_data_6mon_1.loc[(rfm_data_6mon_1['MonetoryScore'] == 11),'MonetoryScore'] = 3"
      ],
      "execution_count": 0,
      "outputs": []
    },
    {
      "cell_type": "code",
      "metadata": {
        "id": "Pr9JvqQvNNa3",
        "colab_type": "code",
        "outputId": "d767d8a9-5aaa-40bf-b554-4447478bd684",
        "colab": {
          "base_uri": "https://localhost:8080/",
          "height": 243
        }
      },
      "source": [
        "fig, (ax1, ax2, ax3) = subplots(nrows=1,ncols=3,figsize=(20, 3))\n",
        "\n",
        "# 1st plot\n",
        "rfm_data_6mon_1.plot('RecencyScore','Recency',kind='scatter',ax=ax1)\n",
        "\n",
        "# 2nd plot\n",
        "rfm_data_6mon_1.plot('FrequencyScore','Frequency',kind='scatter',ax=ax2)\n",
        "\n",
        "# 3rd plot\n",
        "rfm_data_6mon_1.plot('MonetoryScore','Monetory',kind='scatter',ax=ax3)\n",
        "ax3.set_xlabel('MonetoryScore')\n",
        "ax3.set_ylabel('Monetory')"
      ],
      "execution_count": 0,
      "outputs": [
        {
          "output_type": "execute_result",
          "data": {
            "text/plain": [
              "Text(0, 0.5, 'Monetory')"
            ]
          },
          "metadata": {
            "tags": []
          },
          "execution_count": 155
        },
        {
          "output_type": "display_data",
          "data": {
            "image/png": "[encoded data removed]",
            "text/plain": [
              "<Figure size 1440x216 with 3 Axes>"
            ]
          },
          "metadata": {
            "tags": []
          }
        }
      ]
    },
    {
      "cell_type": "code",
      "metadata": {
        "id": "aJ1QqSxwNQMF",
        "colab_type": "code",
        "outputId": "d00fe5f6-4905-4e99-c49c-eebd4dd10316",
        "colab": {
          "base_uri": "https://localhost:8080/",
          "height": 203
        }
      },
      "source": [
        "col_list= list(rfm_data_6mon_1.iloc[:,7:10])\n",
        "rfm_data_6mon_1['RFM_Score'] = rfm_data_6mon_1[col_list].sum(axis=1)\n",
        "rfm_data_6mon_1['RFM_Segment'] = rfm_data_6mon_1['RecencyScore']*100 + rfm_data_6mon_1['FrequencyScore']*10 + rfm_data_6mon_1['MonetoryScore']\n",
        "rfm_data_6mon_1.head()"
      ],
      "execution_count": 0,
      "outputs": [
        {
          "output_type": "execute_result",
          "data": {
            "text/html": [
              "<div>\n",
              "<style scoped>\n",
              "    .dataframe tbody tr th:only-of-type {\n",
              "        vertical-align: middle;\n",
              "    }\n",
              "\n",
              "    .dataframe tbody tr th {\n",
              "        vertical-align: top;\n",
              "    }\n",
              "\n",
              "    .dataframe thead th {\n",
              "        text-align: right;\n",
              "    }\n",
              "</style>\n",
              "<table border=\"1\" class=\"dataframe\">\n",
              "  <thead>\n",
              "    <tr style=\"text-align: right;\">\n",
              "      <th></th>\n",
              "      <th>CustomerID</th>\n",
              "      <th>Recency</th>\n",
              "      <th>Frequency</th>\n",
              "      <th>Monetory</th>\n",
              "      <th>Quantity</th>\n",
              "      <th>#Distinct_items</th>\n",
              "      <th>ASP</th>\n",
              "      <th>RecencyScore</th>\n",
              "      <th>FrequencyScore</th>\n",
              "      <th>MonetoryScore</th>\n",
              "      <th>RFM_Score</th>\n",
              "      <th>RFM_Segment</th>\n",
              "    </tr>\n",
              "  </thead>\n",
              "  <tbody>\n",
              "    <tr>\n",
              "      <th>0</th>\n",
              "      <td>12346</td>\n",
              "      <td>133</td>\n",
              "      <td>2</td>\n",
              "      <td>0.00</td>\n",
              "      <td>0</td>\n",
              "      <td>1</td>\n",
              "      <td>1.85</td>\n",
              "      <td>3</td>\n",
              "      <td>3</td>\n",
              "      <td>3</td>\n",
              "      <td>9</td>\n",
              "      <td>333</td>\n",
              "    </tr>\n",
              "    <tr>\n",
              "      <th>1</th>\n",
              "      <td>12347</td>\n",
              "      <td>54</td>\n",
              "      <td>3</td>\n",
              "      <td>1823.43</td>\n",
              "      <td>1117</td>\n",
              "      <td>63</td>\n",
              "      <td>1.43</td>\n",
              "      <td>2</td>\n",
              "      <td>3</td>\n",
              "      <td>2</td>\n",
              "      <td>7</td>\n",
              "      <td>232</td>\n",
              "    </tr>\n",
              "    <tr>\n",
              "      <th>2</th>\n",
              "      <td>12348</td>\n",
              "      <td>56</td>\n",
              "      <td>3</td>\n",
              "      <td>1487.24</td>\n",
              "      <td>2124</td>\n",
              "      <td>22</td>\n",
              "      <td>2.79</td>\n",
              "      <td>2</td>\n",
              "      <td>3</td>\n",
              "      <td>2</td>\n",
              "      <td>7</td>\n",
              "      <td>232</td>\n",
              "    </tr>\n",
              "    <tr>\n",
              "      <th>3</th>\n",
              "      <td>12350</td>\n",
              "      <td>118</td>\n",
              "      <td>1</td>\n",
              "      <td>334.40</td>\n",
              "      <td>197</td>\n",
              "      <td>17</td>\n",
              "      <td>3.35</td>\n",
              "      <td>3</td>\n",
              "      <td>3</td>\n",
              "      <td>3</td>\n",
              "      <td>9</td>\n",
              "      <td>333</td>\n",
              "    </tr>\n",
              "    <tr>\n",
              "      <th>4</th>\n",
              "      <td>12352</td>\n",
              "      <td>70</td>\n",
              "      <td>8</td>\n",
              "      <td>601.18</td>\n",
              "      <td>188</td>\n",
              "      <td>26</td>\n",
              "      <td>11.67</td>\n",
              "      <td>2</td>\n",
              "      <td>2</td>\n",
              "      <td>3</td>\n",
              "      <td>7</td>\n",
              "      <td>223</td>\n",
              "    </tr>\n",
              "  </tbody>\n",
              "</table>\n",
              "</div>"
            ],
            "text/plain": [
              "   CustomerID  Recency  Frequency  ...  MonetoryScore  RFM_Score  RFM_Segment\n",
              "0       12346      133          2  ...              3          9          333\n",
              "1       12347       54          3  ...              2          7          232\n",
              "2       12348       56          3  ...              2          7          232\n",
              "3       12350      118          1  ...              3          9          333\n",
              "4       12352       70          8  ...              3          7          223\n",
              "\n",
              "[5 rows x 12 columns]"
            ]
          },
          "metadata": {
            "tags": []
          },
          "execution_count": 156
        }
      ]
    },
    {
      "cell_type": "code",
      "metadata": {
        "id": "momRTuUxNV5h",
        "colab_type": "code",
        "outputId": "0dd87ac8-6d86-4aaa-96bb-1f4c7d710ff1",
        "colab": {
          "base_uri": "https://localhost:8080/",
          "height": 203
        }
      },
      "source": [
        "rfm_data_6mon_2 = rfm_data_6mon_2[~(rfm_data_6mon_2['Frequency']>50)]\n",
        "rfm_data_6mon_2 = rfm_data_6mon_2[~(rfm_data_6mon_2['Monetory']>10000)]\n",
        "rfm_data_6mon_2 = rfm_data_6mon_2[~(rfm_data_6mon_2['Monetory']<0)]\n",
        "rfm_data_6mon_2.shape\n",
        "\n",
        "# Let's cluster them all\n",
        "\n",
        "kmeans_recency = KMeans(n_clusters=4, random_state=0).fit(rfm_data_6mon_2['Recency'].values.reshape(-1,1))\n",
        "kmeans_freq = KMeans(n_clusters=4, random_state=0).fit(rfm_data_6mon_2['Frequency'].values.reshape(-1,1))\n",
        "kmeans_monet = KMeans(n_clusters=4, random_state=0).fit(rfm_data_6mon_2['Monetory'].values.reshape(-1,1))\n",
        "\n",
        "rfm_data_6mon_2['RecencyScore'] = kmeans_recency.predict(rfm_data_6mon_2['Recency'].values.reshape(-1,1))\n",
        "rfm_data_6mon_2['FrequencyScore'] = kmeans_freq.predict(rfm_data_6mon_2['Frequency'].values.reshape(-1,1))\n",
        "rfm_data_6mon_2['MonetoryScore'] = kmeans_monet.predict(rfm_data_6mon_2['Monetory'].values.reshape(-1,1))\n",
        "rfm_data_6mon_2.head()"
      ],
      "execution_count": 0,
      "outputs": [
        {
          "output_type": "execute_result",
          "data": {
            "text/html": [
              "<div>\n",
              "<style scoped>\n",
              "    .dataframe tbody tr th:only-of-type {\n",
              "        vertical-align: middle;\n",
              "    }\n",
              "\n",
              "    .dataframe tbody tr th {\n",
              "        vertical-align: top;\n",
              "    }\n",
              "\n",
              "    .dataframe thead th {\n",
              "        text-align: right;\n",
              "    }\n",
              "</style>\n",
              "<table border=\"1\" class=\"dataframe\">\n",
              "  <thead>\n",
              "    <tr style=\"text-align: right;\">\n",
              "      <th></th>\n",
              "      <th>CustomerID</th>\n",
              "      <th>Recency</th>\n",
              "      <th>Frequency</th>\n",
              "      <th>Monetory</th>\n",
              "      <th>Quantity</th>\n",
              "      <th>#Distinct_items</th>\n",
              "      <th>ASP</th>\n",
              "      <th>RecencyScore</th>\n",
              "      <th>FrequencyScore</th>\n",
              "      <th>MonetoryScore</th>\n",
              "    </tr>\n",
              "  </thead>\n",
              "  <tbody>\n",
              "    <tr>\n",
              "      <th>0</th>\n",
              "      <td>12347</td>\n",
              "      <td>2</td>\n",
              "      <td>4</td>\n",
              "      <td>2486.57</td>\n",
              "      <td>1341</td>\n",
              "      <td>66</td>\n",
              "      <td>1.85</td>\n",
              "      <td>0</td>\n",
              "      <td>1</td>\n",
              "      <td>3</td>\n",
              "    </tr>\n",
              "    <tr>\n",
              "      <th>1</th>\n",
              "      <td>12348</td>\n",
              "      <td>75</td>\n",
              "      <td>1</td>\n",
              "      <td>310.00</td>\n",
              "      <td>217</td>\n",
              "      <td>3</td>\n",
              "      <td>1.43</td>\n",
              "      <td>3</td>\n",
              "      <td>0</td>\n",
              "      <td>0</td>\n",
              "    </tr>\n",
              "    <tr>\n",
              "      <th>2</th>\n",
              "      <td>12349</td>\n",
              "      <td>18</td>\n",
              "      <td>1</td>\n",
              "      <td>1757.55</td>\n",
              "      <td>631</td>\n",
              "      <td>73</td>\n",
              "      <td>2.79</td>\n",
              "      <td>0</td>\n",
              "      <td>0</td>\n",
              "      <td>3</td>\n",
              "    </tr>\n",
              "    <tr>\n",
              "      <th>3</th>\n",
              "      <td>12352</td>\n",
              "      <td>36</td>\n",
              "      <td>3</td>\n",
              "      <td>944.23</td>\n",
              "      <td>282</td>\n",
              "      <td>39</td>\n",
              "      <td>3.35</td>\n",
              "      <td>3</td>\n",
              "      <td>0</td>\n",
              "      <td>0</td>\n",
              "    </tr>\n",
              "    <tr>\n",
              "      <th>4</th>\n",
              "      <td>12356</td>\n",
              "      <td>22</td>\n",
              "      <td>1</td>\n",
              "      <td>58.35</td>\n",
              "      <td>5</td>\n",
              "      <td>2</td>\n",
              "      <td>11.67</td>\n",
              "      <td>0</td>\n",
              "      <td>0</td>\n",
              "      <td>0</td>\n",
              "    </tr>\n",
              "  </tbody>\n",
              "</table>\n",
              "</div>"
            ],
            "text/plain": [
              "   CustomerID  Recency  Frequency  ...  RecencyScore  FrequencyScore  MonetoryScore\n",
              "0       12347        2          4  ...             0               1              3\n",
              "1       12348       75          1  ...             3               0              0\n",
              "2       12349       18          1  ...             0               0              3\n",
              "3       12352       36          3  ...             3               0              0\n",
              "4       12356       22          1  ...             0               0              0\n",
              "\n",
              "[5 rows x 10 columns]"
            ]
          },
          "metadata": {
            "tags": []
          },
          "execution_count": 157
        }
      ]
    },
    {
      "cell_type": "code",
      "metadata": {
        "id": "JNd4WI3YNhWs",
        "colab_type": "code",
        "outputId": "db443907-6113-4846-aa31-2d89297dc56b",
        "colab": {
          "base_uri": "https://localhost:8080/",
          "height": 247
        }
      },
      "source": [
        "fig, (ax1, ax2, ax3) = subplots(nrows=1,ncols=3,figsize=(20, 3))\n",
        "\n",
        "# 1st plot\n",
        "rfm_data_6mon_2.plot('RecencyScore','Recency',kind='scatter',ax=ax1)\n",
        "\n",
        "# 2nd plot\n",
        "rfm_data_6mon_2.plot('FrequencyScore','Frequency',kind='scatter',ax=ax2)\n",
        "\n",
        "# 3rd plot\n",
        "rfm_data_6mon_2.plot('MonetoryScore','Monetory',kind='scatter',ax=ax3)\n",
        "ax3.set_xlabel('MonetoryScore')\n",
        "ax3.set_ylabel('Monetory')"
      ],
      "execution_count": 0,
      "outputs": [
        {
          "output_type": "execute_result",
          "data": {
            "text/plain": [
              "Text(0, 0.5, 'Monetory')"
            ]
          },
          "metadata": {
            "tags": []
          },
          "execution_count": 158
        },
        {
          "output_type": "display_data",
          "data": {
            "image/png": "[encoded data removed]",
            "text/plain": [
              "<Figure size 1440x216 with 3 Axes>"
            ]
          },
          "metadata": {
            "tags": []
          }
        }
      ]
    },
    {
      "cell_type": "code",
      "metadata": {
        "id": "gY5ECPpmN55M",
        "colab_type": "code",
        "outputId": "f4c454d1-b4db-438c-fd47-9f6b63512d02",
        "colab": {
          "base_uri": "https://localhost:8080/",
          "height": 107
        }
      },
      "source": [
        "rfm_data_6mon_2['MonetoryScore'].value_counts()"
      ],
      "execution_count": 0,
      "outputs": [
        {
          "output_type": "execute_result",
          "data": {
            "text/plain": [
              "0    2349\n",
              "3     818\n",
              "1     256\n",
              "2      68\n",
              "Name: MonetoryScore, dtype: int64"
            ]
          },
          "metadata": {
            "tags": []
          },
          "execution_count": 159
        }
      ]
    },
    {
      "cell_type": "code",
      "metadata": {
        "id": "oDCyUATZNlB1",
        "colab_type": "code",
        "colab": {}
      },
      "source": [
        "# best recency for now is 0>3>1>2, we want 1-4 orders\n",
        "rfm_data_6mon_2['RecencyScore'] = rfm_data_6mon_2['RecencyScore']+10\n",
        "rfm_data_6mon_2.loc[(rfm_data_6mon_2['RecencyScore'] == 10),'RecencyScore'] = 1\n",
        "rfm_data_6mon_2.loc[(rfm_data_6mon_2['RecencyScore'] == 13),'RecencyScore'] = 2\n",
        "rfm_data_6mon_2.loc[(rfm_data_6mon_2['RecencyScore'] == 11),'RecencyScore'] = 3\n",
        "rfm_data_6mon_2.loc[(rfm_data_6mon_2['RecencyScore'] == 12),'RecencyScore'] = 4\n",
        "\n",
        "# best frequency for now is 2>3>1>0, we want 1-3 orders\n",
        "rfm_data_6mon_2['FrequencyScore'] = rfm_data_6mon_2['FrequencyScore']+10\n",
        "rfm_data_6mon_2.loc[(rfm_data_6mon_2['FrequencyScore'] == 12),'FrequencyScore'] = 1\n",
        "rfm_data_6mon_2.loc[(rfm_data_6mon_2['FrequencyScore'] == 13),'FrequencyScore'] = 1\n",
        "rfm_data_6mon_2.loc[(rfm_data_6mon_2['FrequencyScore'] == 11),'FrequencyScore'] = 2\n",
        "rfm_data_6mon_2.loc[(rfm_data_6mon_2['FrequencyScore'] == 10),'FrequencyScore'] = 3\n",
        "\n",
        "# best recency for now is 2>1>3>0, we want 1-3 orders\n",
        "rfm_data_6mon_2['MonetoryScore'] = rfm_data_6mon_2['MonetoryScore']+10\n",
        "rfm_data_6mon_2.loc[(rfm_data_6mon_2['MonetoryScore'] == 12),'MonetoryScore'] = 1\n",
        "rfm_data_6mon_2.loc[(rfm_data_6mon_2['MonetoryScore'] == 11),'MonetoryScore'] = 1\n",
        "rfm_data_6mon_2.loc[(rfm_data_6mon_2['MonetoryScore'] == 13),'MonetoryScore'] = 2\n",
        "rfm_data_6mon_2.loc[(rfm_data_6mon_2['MonetoryScore'] == 10),'MonetoryScore'] = 3"
      ],
      "execution_count": 0,
      "outputs": []
    },
    {
      "cell_type": "code",
      "metadata": {
        "id": "sm1mIPF5OA9g",
        "colab_type": "code",
        "outputId": "6ff2d385-3a04-4c29-a579-3146aa03581a",
        "colab": {
          "base_uri": "https://localhost:8080/",
          "height": 247
        }
      },
      "source": [
        "fig, (ax1, ax2, ax3) = subplots(nrows=1,ncols=3,figsize=(20, 3))\n",
        "\n",
        "# 1st plot\n",
        "rfm_data_6mon_2.plot('RecencyScore','Recency',kind='scatter',ax=ax1)\n",
        "\n",
        "# 2nd plot\n",
        "rfm_data_6mon_2.plot('FrequencyScore','Frequency',kind='scatter',ax=ax2)\n",
        "\n",
        "# 3rd plot\n",
        "rfm_data_6mon_2.plot('MonetoryScore','Monetory',kind='scatter',ax=ax3)\n",
        "ax3.set_xlabel('MonetoryScore')\n",
        "ax3.set_ylabel('Monetory')"
      ],
      "execution_count": 0,
      "outputs": [
        {
          "output_type": "execute_result",
          "data": {
            "text/plain": [
              "Text(0, 0.5, 'Monetory')"
            ]
          },
          "metadata": {
            "tags": []
          },
          "execution_count": 161
        },
        {
          "output_type": "display_data",
          "data": {
            "image/png": "[encoded data removed]",
            "text/plain": [
              "<Figure size 1440x216 with 3 Axes>"
            ]
          },
          "metadata": {
            "tags": []
          }
        }
      ]
    },
    {
      "cell_type": "code",
      "metadata": {
        "id": "ohcXVqyrWZzg",
        "colab_type": "code",
        "outputId": "7841a582-d765-4ec4-acb0-e710670e9055",
        "colab": {
          "base_uri": "https://localhost:8080/",
          "height": 203
        }
      },
      "source": [
        "col_list= list(rfm_data_6mon_2.iloc[:,7:10])\n",
        "rfm_data_6mon_2['RFM_Score'] = rfm_data_6mon_2[col_list].sum(axis=1)\n",
        "rfm_data_6mon_2['RFM_Segment'] = rfm_data_6mon_2['RecencyScore']*100 + rfm_data_6mon_2['FrequencyScore']*10 + rfm_data_6mon_2['MonetoryScore']\n",
        "rfm_data_6mon_2.head()"
      ],
      "execution_count": 0,
      "outputs": [
        {
          "output_type": "execute_result",
          "data": {
            "text/html": [
              "<div>\n",
              "<style scoped>\n",
              "    .dataframe tbody tr th:only-of-type {\n",
              "        vertical-align: middle;\n",
              "    }\n",
              "\n",
              "    .dataframe tbody tr th {\n",
              "        vertical-align: top;\n",
              "    }\n",
              "\n",
              "    .dataframe thead th {\n",
              "        text-align: right;\n",
              "    }\n",
              "</style>\n",
              "<table border=\"1\" class=\"dataframe\">\n",
              "  <thead>\n",
              "    <tr style=\"text-align: right;\">\n",
              "      <th></th>\n",
              "      <th>CustomerID</th>\n",
              "      <th>Recency</th>\n",
              "      <th>Frequency</th>\n",
              "      <th>Monetory</th>\n",
              "      <th>Quantity</th>\n",
              "      <th>#Distinct_items</th>\n",
              "      <th>ASP</th>\n",
              "      <th>RecencyScore</th>\n",
              "      <th>FrequencyScore</th>\n",
              "      <th>MonetoryScore</th>\n",
              "      <th>RFM_Score</th>\n",
              "      <th>RFM_Segment</th>\n",
              "    </tr>\n",
              "  </thead>\n",
              "  <tbody>\n",
              "    <tr>\n",
              "      <th>0</th>\n",
              "      <td>12347</td>\n",
              "      <td>2</td>\n",
              "      <td>4</td>\n",
              "      <td>2486.57</td>\n",
              "      <td>1341</td>\n",
              "      <td>66</td>\n",
              "      <td>1.85</td>\n",
              "      <td>1</td>\n",
              "      <td>2</td>\n",
              "      <td>2</td>\n",
              "      <td>5</td>\n",
              "      <td>122</td>\n",
              "    </tr>\n",
              "    <tr>\n",
              "      <th>1</th>\n",
              "      <td>12348</td>\n",
              "      <td>75</td>\n",
              "      <td>1</td>\n",
              "      <td>310.00</td>\n",
              "      <td>217</td>\n",
              "      <td>3</td>\n",
              "      <td>1.43</td>\n",
              "      <td>2</td>\n",
              "      <td>3</td>\n",
              "      <td>3</td>\n",
              "      <td>8</td>\n",
              "      <td>233</td>\n",
              "    </tr>\n",
              "    <tr>\n",
              "      <th>2</th>\n",
              "      <td>12349</td>\n",
              "      <td>18</td>\n",
              "      <td>1</td>\n",
              "      <td>1757.55</td>\n",
              "      <td>631</td>\n",
              "      <td>73</td>\n",
              "      <td>2.79</td>\n",
              "      <td>1</td>\n",
              "      <td>3</td>\n",
              "      <td>2</td>\n",
              "      <td>6</td>\n",
              "      <td>132</td>\n",
              "    </tr>\n",
              "    <tr>\n",
              "      <th>3</th>\n",
              "      <td>12352</td>\n",
              "      <td>36</td>\n",
              "      <td>3</td>\n",
              "      <td>944.23</td>\n",
              "      <td>282</td>\n",
              "      <td>39</td>\n",
              "      <td>3.35</td>\n",
              "      <td>2</td>\n",
              "      <td>3</td>\n",
              "      <td>3</td>\n",
              "      <td>8</td>\n",
              "      <td>233</td>\n",
              "    </tr>\n",
              "    <tr>\n",
              "      <th>4</th>\n",
              "      <td>12356</td>\n",
              "      <td>22</td>\n",
              "      <td>1</td>\n",
              "      <td>58.35</td>\n",
              "      <td>5</td>\n",
              "      <td>2</td>\n",
              "      <td>11.67</td>\n",
              "      <td>1</td>\n",
              "      <td>3</td>\n",
              "      <td>3</td>\n",
              "      <td>7</td>\n",
              "      <td>133</td>\n",
              "    </tr>\n",
              "  </tbody>\n",
              "</table>\n",
              "</div>"
            ],
            "text/plain": [
              "   CustomerID  Recency  Frequency  ...  MonetoryScore  RFM_Score  RFM_Segment\n",
              "0       12347        2          4  ...              2          5          122\n",
              "1       12348       75          1  ...              3          8          233\n",
              "2       12349       18          1  ...              2          6          132\n",
              "3       12352       36          3  ...              3          8          233\n",
              "4       12356       22          1  ...              3          7          133\n",
              "\n",
              "[5 rows x 12 columns]"
            ]
          },
          "metadata": {
            "tags": []
          },
          "execution_count": 162
        }
      ]
    },
    {
      "cell_type": "markdown",
      "metadata": {
        "id": "CkCQehtDO5GG",
        "colab_type": "text"
      },
      "source": [
        "Let's merge H1 and H2 and see how good RFM segmentation works"
      ]
    },
    {
      "cell_type": "code",
      "metadata": {
        "id": "uKh_7Gp1lHnb",
        "colab_type": "code",
        "colab": {}
      },
      "source": [
        "# flattening multiindex columns\n",
        "rfm_data_6mon_2.columns = rfm_data_6mon_2.columns.get_level_values(0)"
      ],
      "execution_count": 0,
      "outputs": []
    },
    {
      "cell_type": "code",
      "metadata": {
        "id": "BUUKvgb40T8Q",
        "colab_type": "code",
        "colab": {}
      },
      "source": [
        "rfm_data_6mon_1.columns = rfm_data_6mon_1.columns.get_level_values(0)"
      ],
      "execution_count": 0,
      "outputs": []
    },
    {
      "cell_type": "code",
      "metadata": {
        "id": "fz0-hj3x0cit",
        "colab_type": "code",
        "outputId": "bcd3cab3-c634-443b-bc1a-978dd8aae97e",
        "colab": {
          "base_uri": "https://localhost:8080/",
          "height": 197
        }
      },
      "source": [
        "rfm_data_6mon_1.groupby('RFM_Score')['Monetory'].mean()"
      ],
      "execution_count": 0,
      "outputs": [
        {
          "output_type": "execute_result",
          "data": {
            "text/plain": [
              "RFM_Score\n",
              "3     4354.341800\n",
              "4     2946.781429\n",
              "5     1683.321861\n",
              "6     1154.163170\n",
              "7      526.258909\n",
              "8      436.832985\n",
              "9      325.396218\n",
              "10     253.527075\n",
              "Name: Monetory, dtype: float64"
            ]
          },
          "metadata": {
            "tags": []
          },
          "execution_count": 165
        }
      ]
    },
    {
      "cell_type": "code",
      "metadata": {
        "id": "9NIx323N3VbY",
        "colab_type": "code",
        "outputId": "e0ae5fc3-e645-48af-9b26-866d38b59703",
        "colab": {
          "base_uri": "https://localhost:8080/",
          "height": 203
        }
      },
      "source": [
        "rfm_data_6mon_1.loc[rfm_data_6mon_1['RFM_Score'] <5,'RFM_Category'] = 'Good'\n",
        "rfm_data_6mon_1.loc[(rfm_data_6mon_1['RFM_Score'] <8) & (rfm_data_6mon_1['RFM_Score'] >=5),'RFM_Category'] = 'Avg'\n",
        "rfm_data_6mon_1.loc[(rfm_data_6mon_1['RFM_Score'] <12) & (rfm_data_6mon_1['RFM_Score'] >=8),'RFM_Category'] = 'Bad'\n",
        "\n",
        "rfm_data_6mon_1.head()"
      ],
      "execution_count": 0,
      "outputs": [
        {
          "output_type": "execute_result",
          "data": {
            "text/html": [
              "<div>\n",
              "<style scoped>\n",
              "    .dataframe tbody tr th:only-of-type {\n",
              "        vertical-align: middle;\n",
              "    }\n",
              "\n",
              "    .dataframe tbody tr th {\n",
              "        vertical-align: top;\n",
              "    }\n",
              "\n",
              "    .dataframe thead th {\n",
              "        text-align: right;\n",
              "    }\n",
              "</style>\n",
              "<table border=\"1\" class=\"dataframe\">\n",
              "  <thead>\n",
              "    <tr style=\"text-align: right;\">\n",
              "      <th></th>\n",
              "      <th>CustomerID</th>\n",
              "      <th>Recency</th>\n",
              "      <th>Frequency</th>\n",
              "      <th>Monetory</th>\n",
              "      <th>Quantity</th>\n",
              "      <th>#Distinct_items</th>\n",
              "      <th>ASP</th>\n",
              "      <th>RecencyScore</th>\n",
              "      <th>FrequencyScore</th>\n",
              "      <th>MonetoryScore</th>\n",
              "      <th>RFM_Score</th>\n",
              "      <th>RFM_Segment</th>\n",
              "      <th>RFM_Category</th>\n",
              "    </tr>\n",
              "  </thead>\n",
              "  <tbody>\n",
              "    <tr>\n",
              "      <th>0</th>\n",
              "      <td>12346</td>\n",
              "      <td>133</td>\n",
              "      <td>2</td>\n",
              "      <td>0.00</td>\n",
              "      <td>0</td>\n",
              "      <td>1</td>\n",
              "      <td>1.85</td>\n",
              "      <td>3</td>\n",
              "      <td>3</td>\n",
              "      <td>3</td>\n",
              "      <td>9</td>\n",
              "      <td>333</td>\n",
              "      <td>Bad</td>\n",
              "    </tr>\n",
              "    <tr>\n",
              "      <th>1</th>\n",
              "      <td>12347</td>\n",
              "      <td>54</td>\n",
              "      <td>3</td>\n",
              "      <td>1823.43</td>\n",
              "      <td>1117</td>\n",
              "      <td>63</td>\n",
              "      <td>1.43</td>\n",
              "      <td>2</td>\n",
              "      <td>3</td>\n",
              "      <td>2</td>\n",
              "      <td>7</td>\n",
              "      <td>232</td>\n",
              "      <td>Avg</td>\n",
              "    </tr>\n",
              "    <tr>\n",
              "      <th>2</th>\n",
              "      <td>12348</td>\n",
              "      <td>56</td>\n",
              "      <td>3</td>\n",
              "      <td>1487.24</td>\n",
              "      <td>2124</td>\n",
              "      <td>22</td>\n",
              "      <td>2.79</td>\n",
              "      <td>2</td>\n",
              "      <td>3</td>\n",
              "      <td>2</td>\n",
              "      <td>7</td>\n",
              "      <td>232</td>\n",
              "      <td>Avg</td>\n",
              "    </tr>\n",
              "    <tr>\n",
              "      <th>3</th>\n",
              "      <td>12350</td>\n",
              "      <td>118</td>\n",
              "      <td>1</td>\n",
              "      <td>334.40</td>\n",
              "      <td>197</td>\n",
              "      <td>17</td>\n",
              "      <td>3.35</td>\n",
              "      <td>3</td>\n",
              "      <td>3</td>\n",
              "      <td>3</td>\n",
              "      <td>9</td>\n",
              "      <td>333</td>\n",
              "      <td>Bad</td>\n",
              "    </tr>\n",
              "    <tr>\n",
              "      <th>4</th>\n",
              "      <td>12352</td>\n",
              "      <td>70</td>\n",
              "      <td>8</td>\n",
              "      <td>601.18</td>\n",
              "      <td>188</td>\n",
              "      <td>26</td>\n",
              "      <td>11.67</td>\n",
              "      <td>2</td>\n",
              "      <td>2</td>\n",
              "      <td>3</td>\n",
              "      <td>7</td>\n",
              "      <td>223</td>\n",
              "      <td>Avg</td>\n",
              "    </tr>\n",
              "  </tbody>\n",
              "</table>\n",
              "</div>"
            ],
            "text/plain": [
              "   CustomerID  Recency  Frequency  ...  RFM_Score  RFM_Segment  RFM_Category\n",
              "0       12346      133          2  ...          9          333           Bad\n",
              "1       12347       54          3  ...          7          232           Avg\n",
              "2       12348       56          3  ...          7          232           Avg\n",
              "3       12350      118          1  ...          9          333           Bad\n",
              "4       12352       70          8  ...          7          223           Avg\n",
              "\n",
              "[5 rows x 13 columns]"
            ]
          },
          "metadata": {
            "tags": []
          },
          "execution_count": 166
        }
      ]
    },
    {
      "cell_type": "code",
      "metadata": {
        "colab_type": "code",
        "id": "uAaAYBpR6XQE",
        "outputId": "380553b7-f954-49dd-d8d5-ddad11dace6d",
        "colab": {
          "base_uri": "https://localhost:8080/",
          "height": 107
        }
      },
      "source": [
        "rfm_data_6mon_1.groupby('RFM_Category')['Monetory'].mean()"
      ],
      "execution_count": 0,
      "outputs": [
        {
          "output_type": "execute_result",
          "data": {
            "text/plain": [
              "RFM_Category\n",
              "Avg      932.498128\n",
              "Bad      359.502800\n",
              "Good    3610.725000\n",
              "Name: Monetory, dtype: float64"
            ]
          },
          "metadata": {
            "tags": []
          },
          "execution_count": 167
        }
      ]
    },
    {
      "cell_type": "code",
      "metadata": {
        "id": "pjNvpffq6XyV",
        "colab_type": "code",
        "outputId": "5bb73312-afe2-436c-aa06-666a4c2cca55",
        "colab": {
          "base_uri": "https://localhost:8080/",
          "height": 107
        }
      },
      "source": [
        "rfm_data_6mon_2.loc[rfm_data_6mon_2['RFM_Score'] <5,'RFM_Category'] = 'Good'\n",
        "rfm_data_6mon_2.loc[(rfm_data_6mon_2['RFM_Score'] <8) & (rfm_data_6mon_2['RFM_Score'] >=5),'RFM_Category'] = 'Avg'\n",
        "rfm_data_6mon_2.loc[(rfm_data_6mon_2['RFM_Score'] <12) & (rfm_data_6mon_2['RFM_Score'] >=8),'RFM_Category'] = 'Bad'\n",
        "\n",
        "rfm_data_6mon_2.groupby('RFM_Category')['Monetory'].mean()"
      ],
      "execution_count": 0,
      "outputs": [
        {
          "output_type": "execute_result",
          "data": {
            "text/plain": [
              "RFM_Category\n",
              "Avg      959.761579\n",
              "Bad      395.390896\n",
              "Good    3537.126174\n",
              "Name: Monetory, dtype: float64"
            ]
          },
          "metadata": {
            "tags": []
          },
          "execution_count": 168
        }
      ]
    },
    {
      "cell_type": "code",
      "metadata": {
        "id": "xZ-qf4vxOcR5",
        "colab_type": "code",
        "colab": {}
      },
      "source": [
        "rfm_data.to_csv('rfm_data.csv')\n",
        "rfm_data_6mon_1.to_csv('rfm_data_6mon_1.csv')\n",
        "rfm_data_6mon_2.to_csv('rfm_data_6mon_2.csv')"
      ],
      "execution_count": 0,
      "outputs": []
    },
    {
      "cell_type": "markdown",
      "metadata": {
        "id": "Cc9IznjfElWS",
        "colab_type": "text"
      },
      "source": [
        "Let's try prediction"
      ]
    },
    {
      "cell_type": "code",
      "metadata": {
        "id": "o6wggugo6ixY",
        "colab_type": "code",
        "colab": {}
      },
      "source": [
        "X = rfm_data_6mon_1.merge(rfm_data_6mon_2[['CustomerID','Monetory']], how='inner', on = 'CustomerID',suffixes=['_h1','_h2']).iloc[:,:7]\n",
        "y = rfm_data_6mon_1.merge(rfm_data_6mon_2[['CustomerID','Monetory']], how='inner', on = 'CustomerID',suffixes=['_h1','_h2']).iloc[:,-1]"
      ],
      "execution_count": 0,
      "outputs": []
    },
    {
      "cell_type": "code",
      "metadata": {
        "id": "1wCiX9szx2kn",
        "colab_type": "code",
        "outputId": "f64fa828-23c7-483c-cd45-fad010682dfb",
        "colab": {
          "base_uri": "https://localhost:8080/",
          "height": 203
        }
      },
      "source": [
        "customer_age = (datetime.date(2011, 5, 31) - raw_data_6mon_1.groupby('CustomerID')['InvoiceDate'].min()).astype('timedelta64[D]').astype(int).to_frame().reset_index()\n",
        "customer_age.columns = ['CustomerID','Age']\n",
        "X = X.merge(customer_age, how = 'left', on = 'CustomerID')\n",
        "X.drop(columns = ['CustomerID'], inplace = True)\n",
        "X.head()"
      ],
      "execution_count": 0,
      "outputs": [
        {
          "output_type": "execute_result",
          "data": {
            "text/html": [
              "<div>\n",
              "<style scoped>\n",
              "    .dataframe tbody tr th:only-of-type {\n",
              "        vertical-align: middle;\n",
              "    }\n",
              "\n",
              "    .dataframe tbody tr th {\n",
              "        vertical-align: top;\n",
              "    }\n",
              "\n",
              "    .dataframe thead th {\n",
              "        text-align: right;\n",
              "    }\n",
              "</style>\n",
              "<table border=\"1\" class=\"dataframe\">\n",
              "  <thead>\n",
              "    <tr style=\"text-align: right;\">\n",
              "      <th></th>\n",
              "      <th>Recency</th>\n",
              "      <th>Frequency</th>\n",
              "      <th>Monetory_h1</th>\n",
              "      <th>Quantity</th>\n",
              "      <th>#Distinct_items</th>\n",
              "      <th>ASP</th>\n",
              "      <th>Age</th>\n",
              "    </tr>\n",
              "  </thead>\n",
              "  <tbody>\n",
              "    <tr>\n",
              "      <th>0</th>\n",
              "      <td>54</td>\n",
              "      <td>3</td>\n",
              "      <td>1823.43</td>\n",
              "      <td>1117</td>\n",
              "      <td>63</td>\n",
              "      <td>1.43</td>\n",
              "      <td>175</td>\n",
              "    </tr>\n",
              "    <tr>\n",
              "      <th>1</th>\n",
              "      <td>56</td>\n",
              "      <td>3</td>\n",
              "      <td>1487.24</td>\n",
              "      <td>2124</td>\n",
              "      <td>22</td>\n",
              "      <td>2.79</td>\n",
              "      <td>166</td>\n",
              "    </tr>\n",
              "    <tr>\n",
              "      <th>2</th>\n",
              "      <td>70</td>\n",
              "      <td>8</td>\n",
              "      <td>601.18</td>\n",
              "      <td>188</td>\n",
              "      <td>26</td>\n",
              "      <td>11.67</td>\n",
              "      <td>104</td>\n",
              "    </tr>\n",
              "    <tr>\n",
              "      <th>3</th>\n",
              "      <td>53</td>\n",
              "      <td>2</td>\n",
              "      <td>2753.08</td>\n",
              "      <td>1586</td>\n",
              "      <td>53</td>\n",
              "      <td>2.16</td>\n",
              "      <td>133</td>\n",
              "    </tr>\n",
              "    <tr>\n",
              "      <th>4</th>\n",
              "      <td>48</td>\n",
              "      <td>3</td>\n",
              "      <td>2350.61</td>\n",
              "      <td>605</td>\n",
              "      <td>93</td>\n",
              "      <td>2.45</td>\n",
              "      <td>139</td>\n",
              "    </tr>\n",
              "  </tbody>\n",
              "</table>\n",
              "</div>"
            ],
            "text/plain": [
              "   Recency  Frequency  Monetory_h1  Quantity  #Distinct_items    ASP  Age\n",
              "0       54          3      1823.43      1117               63   1.43  175\n",
              "1       56          3      1487.24      2124               22   2.79  166\n",
              "2       70          8       601.18       188               26  11.67  104\n",
              "3       53          2      2753.08      1586               53   2.16  133\n",
              "4       48          3      2350.61       605               93   2.45  139"
            ]
          },
          "metadata": {
            "tags": []
          },
          "execution_count": 171
        }
      ]
    },
    {
      "cell_type": "code",
      "metadata": {
        "id": "II0DRF3yVL8u",
        "colab_type": "code",
        "colab": {}
      },
      "source": [
        "from sklearn.model_selection import train_test_split\n",
        "X_train, X_test, y_train, y_test = train_test_split(X, y, test_size=0.25, random_state=42)"
      ],
      "execution_count": 0,
      "outputs": []
    },
    {
      "cell_type": "code",
      "metadata": {
        "colab_type": "code",
        "id": "VJZ_V7OQVQev",
        "colab": {}
      },
      "source": [
        "# X_test.fillna(0,inplace =True)\n",
        "# X_test.loc[np.isposinf(X_test['ASP']),'ASP'] = 10"
      ],
      "execution_count": 0,
      "outputs": []
    },
    {
      "cell_type": "code",
      "metadata": {
        "id": "E3Is9xhN30Ka",
        "colab_type": "code",
        "outputId": "e9197d43-d458-4c12-adf2-30f77d78885b",
        "colab": {
          "base_uri": "https://localhost:8080/",
          "height": 161
        }
      },
      "source": [
        "X_train.isnull().sum()"
      ],
      "execution_count": 0,
      "outputs": [
        {
          "output_type": "execute_result",
          "data": {
            "text/plain": [
              "Recency            0\n",
              "Frequency          0\n",
              "Monetory_h1        0\n",
              "Quantity           0\n",
              "#Distinct_items    0\n",
              "ASP                1\n",
              "Age                0\n",
              "dtype: int64"
            ]
          },
          "metadata": {
            "tags": []
          },
          "execution_count": 179
        }
      ]
    },
    {
      "cell_type": "code",
      "metadata": {
        "id": "2Ac31PKCMIHo",
        "colab_type": "code",
        "outputId": "2f3ea420-9476-4c24-b741-f01a6575c68c",
        "colab": {
          "base_uri": "https://localhost:8080/",
          "height": 89
        }
      },
      "source": [
        "from sklearn.linear_model import LinearRegression\n",
        "from sklearn import metrics\n",
        "from sklearn.metrics import r2_score\n",
        "\n",
        "regressor = LinearRegression()  \n",
        "regressor.fit(X_train, y_train) #training the algorithm\n",
        "\n",
        "y_pred = regressor.predict(X_test)\n",
        "\n",
        "print('Mean Squared Monetory Value of y_test:', mean(np.square(y_test))) \n",
        "print('Mean Squared Error:', metrics.mean_squared_error(y_test, y_pred))  \n",
        "print('Root Mean Squared Error:', np.sqrt(metrics.mean_squared_error(y_test, y_pred)))\n",
        "print('R squared:',r2_score(y_test, y_pred))"
      ],
      "execution_count": 0,
      "outputs": [
        {
          "output_type": "stream",
          "text": [
            "Mean Squared Monetory Value of y_test: 3814645.137170728\n",
            "Mean Squared Error: 1248474.8656421176\n",
            "Root Mean Squared Error: 1117.351719756191\n",
            "R squared: 0.4137868676960913\n"
          ],
          "name": "stdout"
        }
      ]
    },
    {
      "cell_type": "code",
      "metadata": {
        "id": "hehjeJXVcefz",
        "colab_type": "code",
        "outputId": "eab30672-2259-4c72-cfb6-b961d8de1c17",
        "colab": {
          "base_uri": "https://localhost:8080/",
          "height": 647
        }
      },
      "source": [
        "import statsmodels.api as sm\n",
        "import statsmodels.formula.api as smf\n",
        "\n",
        "X = sm.add_constant(X_train)\n",
        "results = sm.OLS(y_train, X).fit()\n",
        "print(results.summary())"
      ],
      "execution_count": 0,
      "outputs": [
        {
          "output_type": "stream",
          "text": [
            "                            OLS Regression Results                            \n",
            "==============================================================================\n",
            "Dep. Variable:            Monetory_h2   R-squared:                       0.556\n",
            "Model:                            OLS   Adj. R-squared:                  0.554\n",
            "Method:                 Least Squares   F-statistic:                     249.6\n",
            "Date:                Sun, 10 Nov 2019   Prob (F-statistic):          1.14e-240\n",
            "Time:                        20:04:24   Log-Likelihood:                -11635.\n",
            "No. Observations:                1401   AIC:                         2.329e+04\n",
            "Df Residuals:                    1393   BIC:                         2.333e+04\n",
            "Df Model:                           7                                         \n",
            "Covariance Type:            nonrobust                                         \n",
            "===================================================================================\n",
            "                      coef    std err          t      P>|t|      [0.025      0.975]\n",
            "-----------------------------------------------------------------------------------\n",
            "const             383.9781     66.129      5.806      0.000     254.255     513.702\n",
            "Recency             2.3763      0.708      3.357      0.001       0.988       3.765\n",
            "Frequency          40.5202     11.736      3.453      0.001      17.498      63.542\n",
            "Monetory_h1         0.9848      0.050     19.731      0.000       0.887       1.083\n",
            "Quantity           -0.0754      0.065     -1.163      0.245      -0.203       0.052\n",
            "#Distinct_items    -0.5191      0.710     -0.731      0.465      -1.913       0.875\n",
            "ASP                -0.1524      1.033     -0.148      0.883      -2.178       1.874\n",
            "Age                -2.3021      0.637     -3.611      0.000      -3.553      -1.052\n",
            "==============================================================================\n",
            "Omnibus:                      400.315   Durbin-Watson:                   2.101\n",
            "Prob(Omnibus):                  0.000   Jarque-Bera (JB):             2428.694\n",
            "Skew:                           1.186   Prob(JB):                         0.00\n",
            "Kurtosis:                       8.998   Cond. No.                     4.45e+03\n",
            "==============================================================================\n",
            "\n",
            "Warnings:\n",
            "[1] Standard Errors assume that the covariance matrix of the errors is correctly specified.\n",
            "[2] The condition number is large, 4.45e+03. This might indicate that there are\n",
            "strong multicollinearity or other numerical problems.\n"
          ],
          "name": "stdout"
        },
        {
          "output_type": "stream",
          "text": [
            "/usr/local/lib/python3.6/dist-packages/numpy/core/fromnumeric.py:2495: FutureWarning: Method .ptp is deprecated and will be removed in a future version. Use numpy.ptp instead.\n",
            "  return ptp(axis=axis, out=out, **kwargs)\n"
          ],
          "name": "stderr"
        }
      ]
    }
  ]
}